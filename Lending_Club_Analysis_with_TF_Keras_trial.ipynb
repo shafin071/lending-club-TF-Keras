{
  "nbformat": 4,
  "nbformat_minor": 0,
  "metadata": {
    "colab": {
      "name": "Lending_Club_Analysis_with_TF_Keras_trial.ipynb",
      "provenance": [],
      "collapsed_sections": [
        "Ues0zmE5Bozu"
      ]
    },
    "kernelspec": {
      "name": "python3",
      "display_name": "Python 3"
    }
  },
  "cells": [
    {
      "cell_type": "markdown",
      "metadata": {
        "id": "73HwdYVfwZOA",
        "colab_type": "text"
      },
      "source": [
        "# Loan Default Prediction using Artificial Neural Network"
      ]
    },
    {
      "cell_type": "markdown",
      "metadata": {
        "id": "kLLiWcnr5yv_",
        "colab_type": "text"
      },
      "source": [
        "### This notebook predicts loan outcome on Lending Club dataset using Tensorflow & Keras. \n",
        "\n",
        "### -   Section 1: Exploratory Data Analysis\n",
        "### -   Section 2: Data Preprocessing\n",
        "### -   Section 3: Train-Test Split\n",
        "### -   Section 4: Creating an ANN Model with TF and Keras\n",
        "### -   Section 5: Evaluating Model Performance\n",
        "### -   Section 6: Prediction\n",
        "\n"
      ]
    },
    {
      "cell_type": "code",
      "metadata": {
        "id": "d40eTHJhPdWO",
        "colab_type": "code",
        "colab": {
          "base_uri": "https://localhost:8080/",
          "height": 70
        },
        "outputId": "363a2821-c17e-4bcc-c93f-d53d6329f5b4"
      },
      "source": [
        "import pandas as pd\n",
        "import numpy as np\n",
        "import matplotlib.pyplot as plt\n",
        "import seaborn as sns"
      ],
      "execution_count": 1,
      "outputs": [
        {
          "output_type": "stream",
          "text": [
            "/usr/local/lib/python3.6/dist-packages/statsmodels/tools/_testing.py:19: FutureWarning: pandas.util.testing is deprecated. Use the functions in the public API at pandas.testing instead.\n",
            "  import pandas.util.testing as tm\n"
          ],
          "name": "stderr"
        }
      ]
    },
    {
      "cell_type": "markdown",
      "metadata": {
        "id": "Ues0zmE5Bozu",
        "colab_type": "text"
      },
      "source": [
        "# Section 1: Exploratory Data Analysis"
      ]
    },
    {
      "cell_type": "code",
      "metadata": {
        "id": "XqDHt6QAVCj_",
        "colab_type": "code",
        "colab": {}
      },
      "source": [
        "df_info = pd.read_csv('lending_club_feature_info.csv', index_col='LoanStatNew')"
      ],
      "execution_count": 0,
      "outputs": []
    },
    {
      "cell_type": "code",
      "metadata": {
        "id": "Gu3Tvr2SVJQx",
        "colab_type": "code",
        "outputId": "4540510f-c87e-4ab1-82dd-81a78b08f09a",
        "colab": {
          "base_uri": "https://localhost:8080/",
          "height": 906
        }
      },
      "source": [
        "# This df has description of all the features in the LC dataset\n",
        "df_info"
      ],
      "execution_count": 251,
      "outputs": [
        {
          "output_type": "execute_result",
          "data": {
            "text/html": [
              "<div>\n",
              "<style scoped>\n",
              "    .dataframe tbody tr th:only-of-type {\n",
              "        vertical-align: middle;\n",
              "    }\n",
              "\n",
              "    .dataframe tbody tr th {\n",
              "        vertical-align: top;\n",
              "    }\n",
              "\n",
              "    .dataframe thead th {\n",
              "        text-align: right;\n",
              "    }\n",
              "</style>\n",
              "<table border=\"1\" class=\"dataframe\">\n",
              "  <thead>\n",
              "    <tr style=\"text-align: right;\">\n",
              "      <th></th>\n",
              "      <th>Description</th>\n",
              "    </tr>\n",
              "    <tr>\n",
              "      <th>LoanStatNew</th>\n",
              "      <th></th>\n",
              "    </tr>\n",
              "  </thead>\n",
              "  <tbody>\n",
              "    <tr>\n",
              "      <th>loan_amnt</th>\n",
              "      <td>The listed amount of the loan applied for by t...</td>\n",
              "    </tr>\n",
              "    <tr>\n",
              "      <th>term</th>\n",
              "      <td>The number of payments on the loan. Values are...</td>\n",
              "    </tr>\n",
              "    <tr>\n",
              "      <th>int_rate</th>\n",
              "      <td>Interest Rate on the loan</td>\n",
              "    </tr>\n",
              "    <tr>\n",
              "      <th>installment</th>\n",
              "      <td>The monthly payment owed by the borrower if th...</td>\n",
              "    </tr>\n",
              "    <tr>\n",
              "      <th>grade</th>\n",
              "      <td>LC assigned loan grade</td>\n",
              "    </tr>\n",
              "    <tr>\n",
              "      <th>sub_grade</th>\n",
              "      <td>LC assigned loan subgrade</td>\n",
              "    </tr>\n",
              "    <tr>\n",
              "      <th>emp_title</th>\n",
              "      <td>The job title supplied by the Borrower when ap...</td>\n",
              "    </tr>\n",
              "    <tr>\n",
              "      <th>emp_length</th>\n",
              "      <td>Employment length in years. Possible values ar...</td>\n",
              "    </tr>\n",
              "    <tr>\n",
              "      <th>home_ownership</th>\n",
              "      <td>The home ownership status provided by the borr...</td>\n",
              "    </tr>\n",
              "    <tr>\n",
              "      <th>annual_inc</th>\n",
              "      <td>The self-reported annual income provided by th...</td>\n",
              "    </tr>\n",
              "    <tr>\n",
              "      <th>verification_status</th>\n",
              "      <td>Indicates if income was verified by LC, not ve...</td>\n",
              "    </tr>\n",
              "    <tr>\n",
              "      <th>issue_d</th>\n",
              "      <td>The month which the loan was funded</td>\n",
              "    </tr>\n",
              "    <tr>\n",
              "      <th>loan_status</th>\n",
              "      <td>Current status of the loan</td>\n",
              "    </tr>\n",
              "    <tr>\n",
              "      <th>purpose</th>\n",
              "      <td>A category provided by the borrower for the lo...</td>\n",
              "    </tr>\n",
              "    <tr>\n",
              "      <th>title</th>\n",
              "      <td>The loan title provided by the borrower</td>\n",
              "    </tr>\n",
              "    <tr>\n",
              "      <th>zip_code</th>\n",
              "      <td>The first 3 numbers of the zip code provided b...</td>\n",
              "    </tr>\n",
              "    <tr>\n",
              "      <th>addr_state</th>\n",
              "      <td>The state provided by the borrower in the loan...</td>\n",
              "    </tr>\n",
              "    <tr>\n",
              "      <th>dti</th>\n",
              "      <td>A ratio calculated using the borrower’s total ...</td>\n",
              "    </tr>\n",
              "    <tr>\n",
              "      <th>earliest_cr_line</th>\n",
              "      <td>The month the borrower's earliest reported cre...</td>\n",
              "    </tr>\n",
              "    <tr>\n",
              "      <th>open_acc</th>\n",
              "      <td>The number of open credit lines in the borrowe...</td>\n",
              "    </tr>\n",
              "    <tr>\n",
              "      <th>pub_rec</th>\n",
              "      <td>Number of derogatory public records</td>\n",
              "    </tr>\n",
              "    <tr>\n",
              "      <th>revol_bal</th>\n",
              "      <td>Total credit revolving balance</td>\n",
              "    </tr>\n",
              "    <tr>\n",
              "      <th>revol_util</th>\n",
              "      <td>Revolving line utilization rate, or the amount...</td>\n",
              "    </tr>\n",
              "    <tr>\n",
              "      <th>total_acc</th>\n",
              "      <td>The total number of credit lines currently in ...</td>\n",
              "    </tr>\n",
              "    <tr>\n",
              "      <th>initial_list_status</th>\n",
              "      <td>The initial listing status of the loan. Possib...</td>\n",
              "    </tr>\n",
              "    <tr>\n",
              "      <th>application_type</th>\n",
              "      <td>Indicates whether the loan is an individual ap...</td>\n",
              "    </tr>\n",
              "    <tr>\n",
              "      <th>mort_acc</th>\n",
              "      <td>Number of mortgage accounts.</td>\n",
              "    </tr>\n",
              "    <tr>\n",
              "      <th>pub_rec_bankruptcies</th>\n",
              "      <td>Number of public record bankruptcies</td>\n",
              "    </tr>\n",
              "  </tbody>\n",
              "</table>\n",
              "</div>"
            ],
            "text/plain": [
              "                                                            Description\n",
              "LoanStatNew                                                            \n",
              "loan_amnt             The listed amount of the loan applied for by t...\n",
              "term                  The number of payments on the loan. Values are...\n",
              "int_rate                                      Interest Rate on the loan\n",
              "installment           The monthly payment owed by the borrower if th...\n",
              "grade                                            LC assigned loan grade\n",
              "sub_grade                                     LC assigned loan subgrade\n",
              "emp_title             The job title supplied by the Borrower when ap...\n",
              "emp_length            Employment length in years. Possible values ar...\n",
              "home_ownership        The home ownership status provided by the borr...\n",
              "annual_inc            The self-reported annual income provided by th...\n",
              "verification_status   Indicates if income was verified by LC, not ve...\n",
              "issue_d                             The month which the loan was funded\n",
              "loan_status                                  Current status of the loan\n",
              "purpose               A category provided by the borrower for the lo...\n",
              "title                           The loan title provided by the borrower\n",
              "zip_code              The first 3 numbers of the zip code provided b...\n",
              "addr_state            The state provided by the borrower in the loan...\n",
              "dti                   A ratio calculated using the borrower’s total ...\n",
              "earliest_cr_line      The month the borrower's earliest reported cre...\n",
              "open_acc              The number of open credit lines in the borrowe...\n",
              "pub_rec                             Number of derogatory public records\n",
              "revol_bal                                Total credit revolving balance\n",
              "revol_util            Revolving line utilization rate, or the amount...\n",
              "total_acc             The total number of credit lines currently in ...\n",
              "initial_list_status   The initial listing status of the loan. Possib...\n",
              "application_type      Indicates whether the loan is an individual ap...\n",
              "mort_acc                                   Number of mortgage accounts.\n",
              "pub_rec_bankruptcies               Number of public record bankruptcies"
            ]
          },
          "metadata": {
            "tags": []
          },
          "execution_count": 251
        }
      ]
    },
    {
      "cell_type": "code",
      "metadata": {
        "id": "IWmz66eEVLMX",
        "colab_type": "code",
        "colab": {}
      },
      "source": [
        "df = pd.read_csv('lending_club_data.csv')"
      ],
      "execution_count": 0,
      "outputs": []
    },
    {
      "cell_type": "code",
      "metadata": {
        "id": "e0K_8B7GqMi3",
        "colab_type": "code",
        "outputId": "7f3f1cfa-2ebd-4f7e-cbcc-3f44a9be5f4f",
        "colab": {
          "base_uri": "https://localhost:8080/",
          "height": 666
        }
      },
      "source": [
        "df.head(10)"
      ],
      "execution_count": 5,
      "outputs": [
        {
          "output_type": "execute_result",
          "data": {
            "text/html": [
              "<div>\n",
              "<style scoped>\n",
              "    .dataframe tbody tr th:only-of-type {\n",
              "        vertical-align: middle;\n",
              "    }\n",
              "\n",
              "    .dataframe tbody tr th {\n",
              "        vertical-align: top;\n",
              "    }\n",
              "\n",
              "    .dataframe thead th {\n",
              "        text-align: right;\n",
              "    }\n",
              "</style>\n",
              "<table border=\"1\" class=\"dataframe\">\n",
              "  <thead>\n",
              "    <tr style=\"text-align: right;\">\n",
              "      <th></th>\n",
              "      <th>loan_amnt</th>\n",
              "      <th>term</th>\n",
              "      <th>int_rate</th>\n",
              "      <th>installment</th>\n",
              "      <th>grade</th>\n",
              "      <th>sub_grade</th>\n",
              "      <th>emp_title</th>\n",
              "      <th>emp_length</th>\n",
              "      <th>home_ownership</th>\n",
              "      <th>annual_inc</th>\n",
              "      <th>verification_status</th>\n",
              "      <th>issue_d</th>\n",
              "      <th>loan_status</th>\n",
              "      <th>purpose</th>\n",
              "      <th>title</th>\n",
              "      <th>dti</th>\n",
              "      <th>earliest_cr_line</th>\n",
              "      <th>open_acc</th>\n",
              "      <th>pub_rec</th>\n",
              "      <th>revol_bal</th>\n",
              "      <th>revol_util</th>\n",
              "      <th>total_acc</th>\n",
              "      <th>initial_list_status</th>\n",
              "      <th>application_type</th>\n",
              "      <th>mort_acc</th>\n",
              "      <th>pub_rec_bankruptcies</th>\n",
              "      <th>address</th>\n",
              "    </tr>\n",
              "  </thead>\n",
              "  <tbody>\n",
              "    <tr>\n",
              "      <th>0</th>\n",
              "      <td>10000</td>\n",
              "      <td>36 months</td>\n",
              "      <td>11.44</td>\n",
              "      <td>329.48</td>\n",
              "      <td>B</td>\n",
              "      <td>B4</td>\n",
              "      <td>Marketing</td>\n",
              "      <td>10+ years</td>\n",
              "      <td>RENT</td>\n",
              "      <td>117000.0</td>\n",
              "      <td>Not Verified</td>\n",
              "      <td>Jan-15</td>\n",
              "      <td>Fully Paid</td>\n",
              "      <td>vacation</td>\n",
              "      <td>Vacation</td>\n",
              "      <td>26.24</td>\n",
              "      <td>Jun-90</td>\n",
              "      <td>16</td>\n",
              "      <td>0</td>\n",
              "      <td>36369</td>\n",
              "      <td>41.8</td>\n",
              "      <td>25</td>\n",
              "      <td>w</td>\n",
              "      <td>INDIVIDUAL</td>\n",
              "      <td>0.0</td>\n",
              "      <td>0.0</td>\n",
              "      <td>0174 Michelle Gateway\\nMendozaberg, OK 22690</td>\n",
              "    </tr>\n",
              "    <tr>\n",
              "      <th>1</th>\n",
              "      <td>8000</td>\n",
              "      <td>36 months</td>\n",
              "      <td>11.99</td>\n",
              "      <td>265.68</td>\n",
              "      <td>B</td>\n",
              "      <td>B5</td>\n",
              "      <td>Credit analyst</td>\n",
              "      <td>4 years</td>\n",
              "      <td>MORTGAGE</td>\n",
              "      <td>65000.0</td>\n",
              "      <td>Not Verified</td>\n",
              "      <td>Jan-15</td>\n",
              "      <td>Fully Paid</td>\n",
              "      <td>debt_consolidation</td>\n",
              "      <td>Debt consolidation</td>\n",
              "      <td>22.05</td>\n",
              "      <td>Jul-04</td>\n",
              "      <td>17</td>\n",
              "      <td>0</td>\n",
              "      <td>20131</td>\n",
              "      <td>53.3</td>\n",
              "      <td>27</td>\n",
              "      <td>f</td>\n",
              "      <td>INDIVIDUAL</td>\n",
              "      <td>3.0</td>\n",
              "      <td>0.0</td>\n",
              "      <td>1076 Carney Fort Apt. 347\\nLoganmouth, SD 05113</td>\n",
              "    </tr>\n",
              "    <tr>\n",
              "      <th>2</th>\n",
              "      <td>15600</td>\n",
              "      <td>36 months</td>\n",
              "      <td>10.49</td>\n",
              "      <td>506.97</td>\n",
              "      <td>B</td>\n",
              "      <td>B3</td>\n",
              "      <td>Statistician</td>\n",
              "      <td>&lt; 1 year</td>\n",
              "      <td>RENT</td>\n",
              "      <td>43057.0</td>\n",
              "      <td>Source Verified</td>\n",
              "      <td>Jan-15</td>\n",
              "      <td>Fully Paid</td>\n",
              "      <td>credit_card</td>\n",
              "      <td>Credit card refinancing</td>\n",
              "      <td>12.79</td>\n",
              "      <td>Aug-07</td>\n",
              "      <td>13</td>\n",
              "      <td>0</td>\n",
              "      <td>11987</td>\n",
              "      <td>92.2</td>\n",
              "      <td>26</td>\n",
              "      <td>f</td>\n",
              "      <td>INDIVIDUAL</td>\n",
              "      <td>0.0</td>\n",
              "      <td>0.0</td>\n",
              "      <td>87025 Mark Dale Apt. 269\\nNew Sabrina, WV 05113</td>\n",
              "    </tr>\n",
              "    <tr>\n",
              "      <th>3</th>\n",
              "      <td>7200</td>\n",
              "      <td>36 months</td>\n",
              "      <td>6.49</td>\n",
              "      <td>220.65</td>\n",
              "      <td>A</td>\n",
              "      <td>A2</td>\n",
              "      <td>Client Advocate</td>\n",
              "      <td>6 years</td>\n",
              "      <td>RENT</td>\n",
              "      <td>54000.0</td>\n",
              "      <td>Not Verified</td>\n",
              "      <td>Nov-14</td>\n",
              "      <td>Fully Paid</td>\n",
              "      <td>credit_card</td>\n",
              "      <td>Credit card refinancing</td>\n",
              "      <td>2.60</td>\n",
              "      <td>Sep-06</td>\n",
              "      <td>6</td>\n",
              "      <td>0</td>\n",
              "      <td>5472</td>\n",
              "      <td>21.5</td>\n",
              "      <td>13</td>\n",
              "      <td>f</td>\n",
              "      <td>INDIVIDUAL</td>\n",
              "      <td>0.0</td>\n",
              "      <td>0.0</td>\n",
              "      <td>823 Reid Ford\\nDelacruzside, MA 00813</td>\n",
              "    </tr>\n",
              "    <tr>\n",
              "      <th>4</th>\n",
              "      <td>24375</td>\n",
              "      <td>60 months</td>\n",
              "      <td>17.27</td>\n",
              "      <td>609.33</td>\n",
              "      <td>C</td>\n",
              "      <td>C5</td>\n",
              "      <td>Destiny Management Inc.</td>\n",
              "      <td>9 years</td>\n",
              "      <td>MORTGAGE</td>\n",
              "      <td>55000.0</td>\n",
              "      <td>Verified</td>\n",
              "      <td>Apr-13</td>\n",
              "      <td>Charged Off</td>\n",
              "      <td>credit_card</td>\n",
              "      <td>Credit Card Refinance</td>\n",
              "      <td>33.95</td>\n",
              "      <td>Mar-99</td>\n",
              "      <td>13</td>\n",
              "      <td>0</td>\n",
              "      <td>24584</td>\n",
              "      <td>69.8</td>\n",
              "      <td>43</td>\n",
              "      <td>f</td>\n",
              "      <td>INDIVIDUAL</td>\n",
              "      <td>1.0</td>\n",
              "      <td>0.0</td>\n",
              "      <td>679 Luna Roads\\nGreggshire, VA 11650</td>\n",
              "    </tr>\n",
              "    <tr>\n",
              "      <th>5</th>\n",
              "      <td>20000</td>\n",
              "      <td>36 months</td>\n",
              "      <td>13.33</td>\n",
              "      <td>677.07</td>\n",
              "      <td>C</td>\n",
              "      <td>C3</td>\n",
              "      <td>HR Specialist</td>\n",
              "      <td>10+ years</td>\n",
              "      <td>MORTGAGE</td>\n",
              "      <td>86788.0</td>\n",
              "      <td>Verified</td>\n",
              "      <td>Sep-15</td>\n",
              "      <td>Fully Paid</td>\n",
              "      <td>debt_consolidation</td>\n",
              "      <td>Debt consolidation</td>\n",
              "      <td>16.31</td>\n",
              "      <td>Jan-05</td>\n",
              "      <td>8</td>\n",
              "      <td>0</td>\n",
              "      <td>25757</td>\n",
              "      <td>100.6</td>\n",
              "      <td>23</td>\n",
              "      <td>f</td>\n",
              "      <td>INDIVIDUAL</td>\n",
              "      <td>4.0</td>\n",
              "      <td>0.0</td>\n",
              "      <td>1726 Cooper Passage Suite 129\\nNorth Deniseber...</td>\n",
              "    </tr>\n",
              "    <tr>\n",
              "      <th>6</th>\n",
              "      <td>18000</td>\n",
              "      <td>36 months</td>\n",
              "      <td>5.32</td>\n",
              "      <td>542.07</td>\n",
              "      <td>A</td>\n",
              "      <td>A1</td>\n",
              "      <td>Software Development Engineer</td>\n",
              "      <td>2 years</td>\n",
              "      <td>MORTGAGE</td>\n",
              "      <td>125000.0</td>\n",
              "      <td>Source Verified</td>\n",
              "      <td>Sep-15</td>\n",
              "      <td>Fully Paid</td>\n",
              "      <td>home_improvement</td>\n",
              "      <td>Home improvement</td>\n",
              "      <td>1.36</td>\n",
              "      <td>Aug-05</td>\n",
              "      <td>8</td>\n",
              "      <td>0</td>\n",
              "      <td>4178</td>\n",
              "      <td>4.9</td>\n",
              "      <td>25</td>\n",
              "      <td>f</td>\n",
              "      <td>INDIVIDUAL</td>\n",
              "      <td>3.0</td>\n",
              "      <td>0.0</td>\n",
              "      <td>1008 Erika Vista Suite 748\\nEast Stephanie, TX...</td>\n",
              "    </tr>\n",
              "    <tr>\n",
              "      <th>7</th>\n",
              "      <td>13000</td>\n",
              "      <td>36 months</td>\n",
              "      <td>11.14</td>\n",
              "      <td>426.47</td>\n",
              "      <td>B</td>\n",
              "      <td>B2</td>\n",
              "      <td>Office Depot</td>\n",
              "      <td>10+ years</td>\n",
              "      <td>RENT</td>\n",
              "      <td>46000.0</td>\n",
              "      <td>Not Verified</td>\n",
              "      <td>Sep-12</td>\n",
              "      <td>Fully Paid</td>\n",
              "      <td>credit_card</td>\n",
              "      <td>No More Credit Cards</td>\n",
              "      <td>26.87</td>\n",
              "      <td>Sep-94</td>\n",
              "      <td>11</td>\n",
              "      <td>0</td>\n",
              "      <td>13425</td>\n",
              "      <td>64.5</td>\n",
              "      <td>15</td>\n",
              "      <td>f</td>\n",
              "      <td>INDIVIDUAL</td>\n",
              "      <td>0.0</td>\n",
              "      <td>0.0</td>\n",
              "      <td>USCGC Nunez\\nFPO AE 30723</td>\n",
              "    </tr>\n",
              "    <tr>\n",
              "      <th>8</th>\n",
              "      <td>18900</td>\n",
              "      <td>60 months</td>\n",
              "      <td>10.99</td>\n",
              "      <td>410.84</td>\n",
              "      <td>B</td>\n",
              "      <td>B3</td>\n",
              "      <td>Application Architect</td>\n",
              "      <td>10+ years</td>\n",
              "      <td>RENT</td>\n",
              "      <td>103000.0</td>\n",
              "      <td>Verified</td>\n",
              "      <td>Oct-14</td>\n",
              "      <td>Fully Paid</td>\n",
              "      <td>debt_consolidation</td>\n",
              "      <td>Debt consolidation</td>\n",
              "      <td>12.52</td>\n",
              "      <td>Jun-94</td>\n",
              "      <td>13</td>\n",
              "      <td>0</td>\n",
              "      <td>18637</td>\n",
              "      <td>32.9</td>\n",
              "      <td>40</td>\n",
              "      <td>w</td>\n",
              "      <td>INDIVIDUAL</td>\n",
              "      <td>3.0</td>\n",
              "      <td>0.0</td>\n",
              "      <td>USCGC Tran\\nFPO AP 22690</td>\n",
              "    </tr>\n",
              "    <tr>\n",
              "      <th>9</th>\n",
              "      <td>26300</td>\n",
              "      <td>36 months</td>\n",
              "      <td>16.29</td>\n",
              "      <td>928.40</td>\n",
              "      <td>C</td>\n",
              "      <td>C5</td>\n",
              "      <td>Regado Biosciences</td>\n",
              "      <td>3 years</td>\n",
              "      <td>MORTGAGE</td>\n",
              "      <td>115000.0</td>\n",
              "      <td>Verified</td>\n",
              "      <td>Apr-12</td>\n",
              "      <td>Fully Paid</td>\n",
              "      <td>debt_consolidation</td>\n",
              "      <td>Debt Consolidation</td>\n",
              "      <td>23.69</td>\n",
              "      <td>Dec-97</td>\n",
              "      <td>13</td>\n",
              "      <td>0</td>\n",
              "      <td>22171</td>\n",
              "      <td>82.4</td>\n",
              "      <td>37</td>\n",
              "      <td>f</td>\n",
              "      <td>INDIVIDUAL</td>\n",
              "      <td>1.0</td>\n",
              "      <td>0.0</td>\n",
              "      <td>3390 Luis Rue\\nMauricestad, VA 00813</td>\n",
              "    </tr>\n",
              "  </tbody>\n",
              "</table>\n",
              "</div>"
            ],
            "text/plain": [
              "   loan_amnt  ...                                            address\n",
              "0      10000  ...       0174 Michelle Gateway\\nMendozaberg, OK 22690\n",
              "1       8000  ...    1076 Carney Fort Apt. 347\\nLoganmouth, SD 05113\n",
              "2      15600  ...    87025 Mark Dale Apt. 269\\nNew Sabrina, WV 05113\n",
              "3       7200  ...              823 Reid Ford\\nDelacruzside, MA 00813\n",
              "4      24375  ...               679 Luna Roads\\nGreggshire, VA 11650\n",
              "5      20000  ...  1726 Cooper Passage Suite 129\\nNorth Deniseber...\n",
              "6      18000  ...  1008 Erika Vista Suite 748\\nEast Stephanie, TX...\n",
              "7      13000  ...                          USCGC Nunez\\nFPO AE 30723\n",
              "8      18900  ...                           USCGC Tran\\nFPO AP 22690\n",
              "9      26300  ...               3390 Luis Rue\\nMauricestad, VA 00813\n",
              "\n",
              "[10 rows x 27 columns]"
            ]
          },
          "metadata": {
            "tags": []
          },
          "execution_count": 5
        }
      ]
    },
    {
      "cell_type": "code",
      "metadata": {
        "id": "4E-3JPCZivUR",
        "colab_type": "code",
        "outputId": "9920825a-3216-4673-82d0-e66a205463e6",
        "colab": {
          "base_uri": "https://localhost:8080/",
          "height": 588
        }
      },
      "source": [
        "df.info()"
      ],
      "execution_count": 6,
      "outputs": [
        {
          "output_type": "stream",
          "text": [
            "<class 'pandas.core.frame.DataFrame'>\n",
            "RangeIndex: 396030 entries, 0 to 396029\n",
            "Data columns (total 27 columns):\n",
            " #   Column                Non-Null Count   Dtype  \n",
            "---  ------                --------------   -----  \n",
            " 0   loan_amnt             396030 non-null  int64  \n",
            " 1   term                  396030 non-null  object \n",
            " 2   int_rate              396030 non-null  float64\n",
            " 3   installment           396030 non-null  float64\n",
            " 4   grade                 396030 non-null  object \n",
            " 5   sub_grade             396030 non-null  object \n",
            " 6   emp_title             373103 non-null  object \n",
            " 7   emp_length            377729 non-null  object \n",
            " 8   home_ownership        396030 non-null  object \n",
            " 9   annual_inc            396030 non-null  float64\n",
            " 10  verification_status   396030 non-null  object \n",
            " 11  issue_d               396030 non-null  object \n",
            " 12  loan_status           396030 non-null  object \n",
            " 13  purpose               396030 non-null  object \n",
            " 14  title                 394275 non-null  object \n",
            " 15  dti                   396030 non-null  float64\n",
            " 16  earliest_cr_line      396030 non-null  object \n",
            " 17  open_acc              396030 non-null  int64  \n",
            " 18  pub_rec               396030 non-null  int64  \n",
            " 19  revol_bal             396030 non-null  int64  \n",
            " 20  revol_util            395754 non-null  float64\n",
            " 21  total_acc             396030 non-null  int64  \n",
            " 22  initial_list_status   396030 non-null  object \n",
            " 23  application_type      396030 non-null  object \n",
            " 24  mort_acc              358235 non-null  float64\n",
            " 25  pub_rec_bankruptcies  395495 non-null  float64\n",
            " 26  address               396030 non-null  object \n",
            "dtypes: float64(7), int64(5), object(15)\n",
            "memory usage: 81.6+ MB\n"
          ],
          "name": "stdout"
        }
      ]
    },
    {
      "cell_type": "code",
      "metadata": {
        "id": "hyrTO1HLn6Eq",
        "colab_type": "code",
        "outputId": "a308dfa1-4b95-4859-bb8e-3283a5553866",
        "colab": {
          "base_uri": "https://localhost:8080/",
          "height": 1000
        }
      },
      "source": [
        "fig, ax = plt.subplots(figsize=(18,20))\n",
        "sns.heatmap(df.isnull(),yticklabels=False,cbar=False,cmap='viridis')"
      ],
      "execution_count": 7,
      "outputs": [
        {
          "output_type": "execute_result",
          "data": {
            "text/plain": [
              "<matplotlib.axes._subplots.AxesSubplot at 0x7fbb14eb77b8>"
            ]
          },
          "metadata": {
            "tags": []
          },
          "execution_count": 7
        },
        {
          "output_type": "display_data",
          "data": {
            "image/png": "[encoded data removed]",
            "text/plain": [
              "<Figure size 1296x1440 with 1 Axes>"
            ]
          },
          "metadata": {
            "tags": [],
            "needs_background": "light"
          }
        }
      ]
    },
    {
      "cell_type": "code",
      "metadata": {
        "id": "l-XVD7NsoMs9",
        "colab_type": "code",
        "outputId": "9aec727c-9c42-4a15-b6e6-d57568bc26f6",
        "colab": {
          "base_uri": "https://localhost:8080/",
          "height": 118
        }
      },
      "source": [
        "df.columns[df.isnull().any()].tolist()"
      ],
      "execution_count": 8,
      "outputs": [
        {
          "output_type": "execute_result",
          "data": {
            "text/plain": [
              "['emp_title',\n",
              " 'emp_length',\n",
              " 'title',\n",
              " 'revol_util',\n",
              " 'mort_acc',\n",
              " 'pub_rec_bankruptcies']"
            ]
          },
          "metadata": {
            "tags": []
          },
          "execution_count": 8
        }
      ]
    },
    {
      "cell_type": "markdown",
      "metadata": {
        "id": "AVlA8v1E-w7e",
        "colab_type": "text"
      },
      "source": [
        "Let's look at the distribution of target class"
      ]
    },
    {
      "cell_type": "code",
      "metadata": {
        "id": "XB2tpOcSo3Tr",
        "colab_type": "code",
        "outputId": "9b0764d7-635f-4905-bdfa-8e2845066843",
        "colab": {
          "base_uri": "https://localhost:8080/",
          "height": 515
        }
      },
      "source": [
        "fig, ax = plt.subplots(figsize=(4,8))\n",
        "sns.countplot(x=\"loan_status\", data=df)"
      ],
      "execution_count": 9,
      "outputs": [
        {
          "output_type": "execute_result",
          "data": {
            "text/plain": [
              "<matplotlib.axes._subplots.AxesSubplot at 0x7fbb14bb4b38>"
            ]
          },
          "metadata": {
            "tags": []
          },
          "execution_count": 9
        },
        {
          "output_type": "display_data",
          "data": {
            "image/png": "[encoded data removed]",
            "text/plain": [
              "<Figure size 288x576 with 1 Axes>"
            ]
          },
          "metadata": {
            "tags": [],
            "needs_background": "light"
          }
        }
      ]
    },
    {
      "cell_type": "markdown",
      "metadata": {
        "id": "HcDPqp55_G5G",
        "colab_type": "text"
      },
      "source": [
        "Our target class data is imbalanced. I will address this in Section 3"
      ]
    },
    {
      "cell_type": "code",
      "metadata": {
        "id": "8IJ0wW9kqaJ3",
        "colab_type": "code",
        "outputId": "a38919e2-9733-48c7-f365-a3a3a2624ce0",
        "colab": {
          "base_uri": "https://localhost:8080/",
          "height": 297
        }
      },
      "source": [
        "plt.figure(figsize=(12,4))\n",
        "sns.distplot(df['loan_amnt'],kde=False,bins=40)\n",
        "plt.xlim(0,45000)"
      ],
      "execution_count": 10,
      "outputs": [
        {
          "output_type": "execute_result",
          "data": {
            "text/plain": [
              "(0.0, 45000.0)"
            ]
          },
          "metadata": {
            "tags": []
          },
          "execution_count": 10
        },
        {
          "output_type": "display_data",
          "data": {
            "image/png": "[encoded data removed]",
            "text/plain": [
              "<Figure size 864x288 with 1 Axes>"
            ]
          },
          "metadata": {
            "tags": [],
            "needs_background": "light"
          }
        }
      ]
    },
    {
      "cell_type": "code",
      "metadata": {
        "id": "T8bxb-2-vDP_",
        "colab_type": "code",
        "outputId": "0d6f3373-aed5-4659-bf05-167c23710a01",
        "colab": {
          "base_uri": "https://localhost:8080/",
          "height": 549
        }
      },
      "source": [
        "# This only shows all the continous feature variables\n",
        "\n",
        "plt.figure(figsize=(12,7))\n",
        "sns.heatmap(df.corr(),annot=True,cmap='viridis')\n",
        "plt.ylim(10, 0)"
      ],
      "execution_count": 11,
      "outputs": [
        {
          "output_type": "execute_result",
          "data": {
            "text/plain": [
              "(10.0, 0.0)"
            ]
          },
          "metadata": {
            "tags": []
          },
          "execution_count": 11
        },
        {
          "output_type": "display_data",
          "data": {
            "image/png": "[encoded data removed]",
            "text/plain": [
              "<Figure size 864x504 with 2 Axes>"
            ]
          },
          "metadata": {
            "tags": [],
            "needs_background": "light"
          }
        }
      ]
    },
    {
      "cell_type": "code",
      "metadata": {
        "id": "KyAUDVSgxGMw",
        "colab_type": "code",
        "outputId": "4ea0885c-de40-4291-8834-5db67d61ec7b",
        "colab": {
          "base_uri": "https://localhost:8080/",
          "height": 296
        }
      },
      "source": [
        "sns.scatterplot(x='installment',y='loan_amnt',data=df)"
      ],
      "execution_count": 12,
      "outputs": [
        {
          "output_type": "execute_result",
          "data": {
            "text/plain": [
              "<matplotlib.axes._subplots.AxesSubplot at 0x7fbb10baacc0>"
            ]
          },
          "metadata": {
            "tags": []
          },
          "execution_count": 12
        },
        {
          "output_type": "display_data",
          "data": {
            "image/png": "[encoded data removed]",
            "text/plain": [
              "<Figure size 432x288 with 1 Axes>"
            ]
          },
          "metadata": {
            "tags": [],
            "needs_background": "light"
          }
        }
      ]
    },
    {
      "cell_type": "code",
      "metadata": {
        "id": "YF5XIpvPyfPp",
        "colab_type": "code",
        "outputId": "195108c1-cf74-4a76-c3a7-86ba375ab10c",
        "colab": {
          "base_uri": "https://localhost:8080/",
          "height": 297
        }
      },
      "source": [
        "sns.boxplot(x='loan_status',y='loan_amnt',data=df)"
      ],
      "execution_count": 13,
      "outputs": [
        {
          "output_type": "execute_result",
          "data": {
            "text/plain": [
              "<matplotlib.axes._subplots.AxesSubplot at 0x7fbb0f334ef0>"
            ]
          },
          "metadata": {
            "tags": []
          },
          "execution_count": 13
        },
        {
          "output_type": "display_data",
          "data": {
            "image/png": "[encoded data removed]",
            "text/plain": [
              "<Figure size 432x288 with 1 Axes>"
            ]
          },
          "metadata": {
            "tags": [],
            "needs_background": "light"
          }
        }
      ]
    },
    {
      "cell_type": "code",
      "metadata": {
        "id": "AU5rSylM3_Ym",
        "colab_type": "code",
        "outputId": "65fb348a-4ac8-45be-ce76-f03c0e19353d",
        "colab": {
          "base_uri": "https://localhost:8080/",
          "height": 136
        }
      },
      "source": [
        "df.groupby('loan_status')['loan_amnt'].describe()"
      ],
      "execution_count": 14,
      "outputs": [
        {
          "output_type": "execute_result",
          "data": {
            "text/html": [
              "<div>\n",
              "<style scoped>\n",
              "    .dataframe tbody tr th:only-of-type {\n",
              "        vertical-align: middle;\n",
              "    }\n",
              "\n",
              "    .dataframe tbody tr th {\n",
              "        vertical-align: top;\n",
              "    }\n",
              "\n",
              "    .dataframe thead th {\n",
              "        text-align: right;\n",
              "    }\n",
              "</style>\n",
              "<table border=\"1\" class=\"dataframe\">\n",
              "  <thead>\n",
              "    <tr style=\"text-align: right;\">\n",
              "      <th></th>\n",
              "      <th>count</th>\n",
              "      <th>mean</th>\n",
              "      <th>std</th>\n",
              "      <th>min</th>\n",
              "      <th>25%</th>\n",
              "      <th>50%</th>\n",
              "      <th>75%</th>\n",
              "      <th>max</th>\n",
              "    </tr>\n",
              "    <tr>\n",
              "      <th>loan_status</th>\n",
              "      <th></th>\n",
              "      <th></th>\n",
              "      <th></th>\n",
              "      <th></th>\n",
              "      <th></th>\n",
              "      <th></th>\n",
              "      <th></th>\n",
              "      <th></th>\n",
              "    </tr>\n",
              "  </thead>\n",
              "  <tbody>\n",
              "    <tr>\n",
              "      <th>Charged Off</th>\n",
              "      <td>77673.0</td>\n",
              "      <td>15126.300967</td>\n",
              "      <td>8505.090557</td>\n",
              "      <td>1000.0</td>\n",
              "      <td>8525.0</td>\n",
              "      <td>14000.0</td>\n",
              "      <td>20000.0</td>\n",
              "      <td>40000.0</td>\n",
              "    </tr>\n",
              "    <tr>\n",
              "      <th>Fully Paid</th>\n",
              "      <td>318357.0</td>\n",
              "      <td>13866.878771</td>\n",
              "      <td>8302.319699</td>\n",
              "      <td>500.0</td>\n",
              "      <td>7500.0</td>\n",
              "      <td>12000.0</td>\n",
              "      <td>19225.0</td>\n",
              "      <td>40000.0</td>\n",
              "    </tr>\n",
              "  </tbody>\n",
              "</table>\n",
              "</div>"
            ],
            "text/plain": [
              "                count          mean          std  ...      50%      75%      max\n",
              "loan_status                                       ...                           \n",
              "Charged Off   77673.0  15126.300967  8505.090557  ...  14000.0  20000.0  40000.0\n",
              "Fully Paid   318357.0  13866.878771  8302.319699  ...  12000.0  19225.0  40000.0\n",
              "\n",
              "[2 rows x 8 columns]"
            ]
          },
          "metadata": {
            "tags": []
          },
          "execution_count": 14
        }
      ]
    },
    {
      "cell_type": "code",
      "metadata": {
        "id": "PbEXBpK95-6s",
        "colab_type": "code",
        "colab": {}
      },
      "source": [
        ""
      ],
      "execution_count": 0,
      "outputs": []
    },
    {
      "cell_type": "markdown",
      "metadata": {
        "id": "Kxc2S6WL5yIM",
        "colab_type": "text"
      },
      "source": [
        "Let's understand how Lending Club assign grades to loans and what do they really mean"
      ]
    },
    {
      "cell_type": "code",
      "metadata": {
        "id": "fzWxy2yh-vFu",
        "colab_type": "code",
        "outputId": "8fa4ebbb-76e2-4fcb-a9bf-8713da033be2",
        "colab": {
          "base_uri": "https://localhost:8080/",
          "height": 284
        }
      },
      "source": [
        "df.groupby('grade')['loan_amnt'].describe()"
      ],
      "execution_count": 15,
      "outputs": [
        {
          "output_type": "execute_result",
          "data": {
            "text/html": [
              "<div>\n",
              "<style scoped>\n",
              "    .dataframe tbody tr th:only-of-type {\n",
              "        vertical-align: middle;\n",
              "    }\n",
              "\n",
              "    .dataframe tbody tr th {\n",
              "        vertical-align: top;\n",
              "    }\n",
              "\n",
              "    .dataframe thead th {\n",
              "        text-align: right;\n",
              "    }\n",
              "</style>\n",
              "<table border=\"1\" class=\"dataframe\">\n",
              "  <thead>\n",
              "    <tr style=\"text-align: right;\">\n",
              "      <th></th>\n",
              "      <th>count</th>\n",
              "      <th>mean</th>\n",
              "      <th>std</th>\n",
              "      <th>min</th>\n",
              "      <th>25%</th>\n",
              "      <th>50%</th>\n",
              "      <th>75%</th>\n",
              "      <th>max</th>\n",
              "    </tr>\n",
              "    <tr>\n",
              "      <th>grade</th>\n",
              "      <th></th>\n",
              "      <th></th>\n",
              "      <th></th>\n",
              "      <th></th>\n",
              "      <th></th>\n",
              "      <th></th>\n",
              "      <th></th>\n",
              "      <th></th>\n",
              "    </tr>\n",
              "  </thead>\n",
              "  <tbody>\n",
              "    <tr>\n",
              "      <th>A</th>\n",
              "      <td>64187.0</td>\n",
              "      <td>13294.734526</td>\n",
              "      <td>7376.005559</td>\n",
              "      <td>725.0</td>\n",
              "      <td>7500.0</td>\n",
              "      <td>12000.0</td>\n",
              "      <td>18450.0</td>\n",
              "      <td>40000.0</td>\n",
              "    </tr>\n",
              "    <tr>\n",
              "      <th>B</th>\n",
              "      <td>116018.0</td>\n",
              "      <td>12895.710795</td>\n",
              "      <td>7393.687894</td>\n",
              "      <td>500.0</td>\n",
              "      <td>7375.0</td>\n",
              "      <td>11200.0</td>\n",
              "      <td>17000.0</td>\n",
              "      <td>40000.0</td>\n",
              "    </tr>\n",
              "    <tr>\n",
              "      <th>C</th>\n",
              "      <td>105987.0</td>\n",
              "      <td>13761.337004</td>\n",
              "      <td>8421.998481</td>\n",
              "      <td>500.0</td>\n",
              "      <td>7375.0</td>\n",
              "      <td>12000.0</td>\n",
              "      <td>19000.0</td>\n",
              "      <td>40000.0</td>\n",
              "    </tr>\n",
              "    <tr>\n",
              "      <th>D</th>\n",
              "      <td>63524.0</td>\n",
              "      <td>14695.402919</td>\n",
              "      <td>8972.220921</td>\n",
              "      <td>1000.0</td>\n",
              "      <td>7900.0</td>\n",
              "      <td>12775.0</td>\n",
              "      <td>20000.0</td>\n",
              "      <td>40000.0</td>\n",
              "    </tr>\n",
              "    <tr>\n",
              "      <th>E</th>\n",
              "      <td>31488.0</td>\n",
              "      <td>17723.595497</td>\n",
              "      <td>9468.414168</td>\n",
              "      <td>1000.0</td>\n",
              "      <td>10150.0</td>\n",
              "      <td>16450.0</td>\n",
              "      <td>25000.0</td>\n",
              "      <td>40000.0</td>\n",
              "    </tr>\n",
              "    <tr>\n",
              "      <th>F</th>\n",
              "      <td>11772.0</td>\n",
              "      <td>19211.506116</td>\n",
              "      <td>9349.866049</td>\n",
              "      <td>1000.0</td>\n",
              "      <td>12000.0</td>\n",
              "      <td>19000.0</td>\n",
              "      <td>26000.0</td>\n",
              "      <td>40000.0</td>\n",
              "    </tr>\n",
              "    <tr>\n",
              "      <th>G</th>\n",
              "      <td>3054.0</td>\n",
              "      <td>20879.952521</td>\n",
              "      <td>8830.188236</td>\n",
              "      <td>1000.0</td>\n",
              "      <td>13850.0</td>\n",
              "      <td>20000.0</td>\n",
              "      <td>28000.0</td>\n",
              "      <td>36000.0</td>\n",
              "    </tr>\n",
              "  </tbody>\n",
              "</table>\n",
              "</div>"
            ],
            "text/plain": [
              "          count          mean          std  ...      50%      75%      max\n",
              "grade                                       ...                           \n",
              "A       64187.0  13294.734526  7376.005559  ...  12000.0  18450.0  40000.0\n",
              "B      116018.0  12895.710795  7393.687894  ...  11200.0  17000.0  40000.0\n",
              "C      105987.0  13761.337004  8421.998481  ...  12000.0  19000.0  40000.0\n",
              "D       63524.0  14695.402919  8972.220921  ...  12775.0  20000.0  40000.0\n",
              "E       31488.0  17723.595497  9468.414168  ...  16450.0  25000.0  40000.0\n",
              "F       11772.0  19211.506116  9349.866049  ...  19000.0  26000.0  40000.0\n",
              "G        3054.0  20879.952521  8830.188236  ...  20000.0  28000.0  36000.0\n",
              "\n",
              "[7 rows x 8 columns]"
            ]
          },
          "metadata": {
            "tags": []
          },
          "execution_count": 15
        }
      ]
    },
    {
      "cell_type": "code",
      "metadata": {
        "id": "PyppM8SUBhlf",
        "colab_type": "code",
        "outputId": "106aac02-6484-4667-d652-6dd6829dfe2b",
        "colab": {
          "base_uri": "https://localhost:8080/",
          "height": 284
        }
      },
      "source": [
        "df.groupby('grade')['int_rate'].describe()"
      ],
      "execution_count": 16,
      "outputs": [
        {
          "output_type": "execute_result",
          "data": {
            "text/html": [
              "<div>\n",
              "<style scoped>\n",
              "    .dataframe tbody tr th:only-of-type {\n",
              "        vertical-align: middle;\n",
              "    }\n",
              "\n",
              "    .dataframe tbody tr th {\n",
              "        vertical-align: top;\n",
              "    }\n",
              "\n",
              "    .dataframe thead th {\n",
              "        text-align: right;\n",
              "    }\n",
              "</style>\n",
              "<table border=\"1\" class=\"dataframe\">\n",
              "  <thead>\n",
              "    <tr style=\"text-align: right;\">\n",
              "      <th></th>\n",
              "      <th>count</th>\n",
              "      <th>mean</th>\n",
              "      <th>std</th>\n",
              "      <th>min</th>\n",
              "      <th>25%</th>\n",
              "      <th>50%</th>\n",
              "      <th>75%</th>\n",
              "      <th>max</th>\n",
              "    </tr>\n",
              "    <tr>\n",
              "      <th>grade</th>\n",
              "      <th></th>\n",
              "      <th></th>\n",
              "      <th></th>\n",
              "      <th></th>\n",
              "      <th></th>\n",
              "      <th></th>\n",
              "      <th></th>\n",
              "      <th></th>\n",
              "    </tr>\n",
              "  </thead>\n",
              "  <tbody>\n",
              "    <tr>\n",
              "      <th>A</th>\n",
              "      <td>64187.0</td>\n",
              "      <td>7.392854</td>\n",
              "      <td>1.004661</td>\n",
              "      <td>5.32</td>\n",
              "      <td>6.62</td>\n",
              "      <td>7.62</td>\n",
              "      <td>7.90</td>\n",
              "      <td>9.63</td>\n",
              "    </tr>\n",
              "    <tr>\n",
              "      <th>B</th>\n",
              "      <td>116018.0</td>\n",
              "      <td>11.223131</td>\n",
              "      <td>1.410997</td>\n",
              "      <td>6.00</td>\n",
              "      <td>10.15</td>\n",
              "      <td>11.14</td>\n",
              "      <td>12.12</td>\n",
              "      <td>14.09</td>\n",
              "    </tr>\n",
              "    <tr>\n",
              "      <th>C</th>\n",
              "      <td>105987.0</td>\n",
              "      <td>14.317992</td>\n",
              "      <td>1.275851</td>\n",
              "      <td>6.00</td>\n",
              "      <td>13.35</td>\n",
              "      <td>14.31</td>\n",
              "      <td>15.27</td>\n",
              "      <td>17.27</td>\n",
              "    </tr>\n",
              "    <tr>\n",
              "      <th>D</th>\n",
              "      <td>63524.0</td>\n",
              "      <td>17.484528</td>\n",
              "      <td>1.342437</td>\n",
              "      <td>6.00</td>\n",
              "      <td>16.55</td>\n",
              "      <td>17.57</td>\n",
              "      <td>18.49</td>\n",
              "      <td>21.49</td>\n",
              "    </tr>\n",
              "    <tr>\n",
              "      <th>E</th>\n",
              "      <td>31488.0</td>\n",
              "      <td>20.283007</td>\n",
              "      <td>1.647764</td>\n",
              "      <td>6.00</td>\n",
              "      <td>18.99</td>\n",
              "      <td>20.30</td>\n",
              "      <td>21.48</td>\n",
              "      <td>26.24</td>\n",
              "    </tr>\n",
              "    <tr>\n",
              "      <th>F</th>\n",
              "      <td>11772.0</td>\n",
              "      <td>23.701144</td>\n",
              "      <td>1.619788</td>\n",
              "      <td>6.00</td>\n",
              "      <td>22.99</td>\n",
              "      <td>23.83</td>\n",
              "      <td>24.50</td>\n",
              "      <td>30.74</td>\n",
              "    </tr>\n",
              "    <tr>\n",
              "      <th>G</th>\n",
              "      <td>3054.0</td>\n",
              "      <td>25.904352</td>\n",
              "      <td>1.865331</td>\n",
              "      <td>6.00</td>\n",
              "      <td>25.80</td>\n",
              "      <td>25.83</td>\n",
              "      <td>26.77</td>\n",
              "      <td>30.99</td>\n",
              "    </tr>\n",
              "  </tbody>\n",
              "</table>\n",
              "</div>"
            ],
            "text/plain": [
              "          count       mean       std   min    25%    50%    75%    max\n",
              "grade                                                                 \n",
              "A       64187.0   7.392854  1.004661  5.32   6.62   7.62   7.90   9.63\n",
              "B      116018.0  11.223131  1.410997  6.00  10.15  11.14  12.12  14.09\n",
              "C      105987.0  14.317992  1.275851  6.00  13.35  14.31  15.27  17.27\n",
              "D       63524.0  17.484528  1.342437  6.00  16.55  17.57  18.49  21.49\n",
              "E       31488.0  20.283007  1.647764  6.00  18.99  20.30  21.48  26.24\n",
              "F       11772.0  23.701144  1.619788  6.00  22.99  23.83  24.50  30.74\n",
              "G        3054.0  25.904352  1.865331  6.00  25.80  25.83  26.77  30.99"
            ]
          },
          "metadata": {
            "tags": []
          },
          "execution_count": 16
        }
      ]
    },
    {
      "cell_type": "code",
      "metadata": {
        "id": "kAgXZFtoEh3b",
        "colab_type": "code",
        "outputId": "39e8dc9f-69c5-466f-ffe3-25b0887c47de",
        "colab": {
          "base_uri": "https://localhost:8080/",
          "height": 284
        }
      },
      "source": [
        "df.groupby('grade')['installment'].describe()"
      ],
      "execution_count": 17,
      "outputs": [
        {
          "output_type": "execute_result",
          "data": {
            "text/html": [
              "<div>\n",
              "<style scoped>\n",
              "    .dataframe tbody tr th:only-of-type {\n",
              "        vertical-align: middle;\n",
              "    }\n",
              "\n",
              "    .dataframe tbody tr th {\n",
              "        vertical-align: top;\n",
              "    }\n",
              "\n",
              "    .dataframe thead th {\n",
              "        text-align: right;\n",
              "    }\n",
              "</style>\n",
              "<table border=\"1\" class=\"dataframe\">\n",
              "  <thead>\n",
              "    <tr style=\"text-align: right;\">\n",
              "      <th></th>\n",
              "      <th>count</th>\n",
              "      <th>mean</th>\n",
              "      <th>std</th>\n",
              "      <th>min</th>\n",
              "      <th>25%</th>\n",
              "      <th>50%</th>\n",
              "      <th>75%</th>\n",
              "      <th>max</th>\n",
              "    </tr>\n",
              "    <tr>\n",
              "      <th>grade</th>\n",
              "      <th></th>\n",
              "      <th></th>\n",
              "      <th></th>\n",
              "      <th></th>\n",
              "      <th></th>\n",
              "      <th></th>\n",
              "      <th></th>\n",
              "      <th></th>\n",
              "    </tr>\n",
              "  </thead>\n",
              "  <tbody>\n",
              "    <tr>\n",
              "      <th>A</th>\n",
              "      <td>64187.0</td>\n",
              "      <td>408.123876</td>\n",
              "      <td>228.277996</td>\n",
              "      <td>19.87</td>\n",
              "      <td>228.6300</td>\n",
              "      <td>365.940</td>\n",
              "      <td>563.2300</td>\n",
              "      <td>1253.28</td>\n",
              "    </tr>\n",
              "    <tr>\n",
              "      <th>B</th>\n",
              "      <td>116018.0</td>\n",
              "      <td>401.774645</td>\n",
              "      <td>226.209137</td>\n",
              "      <td>16.08</td>\n",
              "      <td>236.2000</td>\n",
              "      <td>342.790</td>\n",
              "      <td>514.6500</td>\n",
              "      <td>1318.86</td>\n",
              "    </tr>\n",
              "    <tr>\n",
              "      <th>C</th>\n",
              "      <td>105987.0</td>\n",
              "      <td>419.454203</td>\n",
              "      <td>251.856233</td>\n",
              "      <td>16.47</td>\n",
              "      <td>242.1500</td>\n",
              "      <td>353.400</td>\n",
              "      <td>535.7100</td>\n",
              "      <td>1398.20</td>\n",
              "    </tr>\n",
              "    <tr>\n",
              "      <th>D</th>\n",
              "      <td>63524.0</td>\n",
              "      <td>451.851504</td>\n",
              "      <td>269.872507</td>\n",
              "      <td>23.51</td>\n",
              "      <td>259.5425</td>\n",
              "      <td>385.000</td>\n",
              "      <td>589.9225</td>\n",
              "      <td>1451.12</td>\n",
              "    </tr>\n",
              "    <tr>\n",
              "      <th>E</th>\n",
              "      <td>31488.0</td>\n",
              "      <td>519.917415</td>\n",
              "      <td>275.117970</td>\n",
              "      <td>24.73</td>\n",
              "      <td>312.8425</td>\n",
              "      <td>480.105</td>\n",
              "      <td>690.1900</td>\n",
              "      <td>1527.00</td>\n",
              "    </tr>\n",
              "    <tr>\n",
              "      <th>F</th>\n",
              "      <td>11772.0</td>\n",
              "      <td>571.571673</td>\n",
              "      <td>271.340994</td>\n",
              "      <td>27.82</td>\n",
              "      <td>363.6900</td>\n",
              "      <td>552.350</td>\n",
              "      <td>771.3950</td>\n",
              "      <td>1533.81</td>\n",
              "    </tr>\n",
              "    <tr>\n",
              "      <th>G</th>\n",
              "      <td>3054.0</td>\n",
              "      <td>640.566146</td>\n",
              "      <td>271.857901</td>\n",
              "      <td>35.11</td>\n",
              "      <td>427.8950</td>\n",
              "      <td>598.030</td>\n",
              "      <td>856.3025</td>\n",
              "      <td>1479.49</td>\n",
              "    </tr>\n",
              "  </tbody>\n",
              "</table>\n",
              "</div>"
            ],
            "text/plain": [
              "          count        mean         std  ...      50%       75%      max\n",
              "grade                                    ...                            \n",
              "A       64187.0  408.123876  228.277996  ...  365.940  563.2300  1253.28\n",
              "B      116018.0  401.774645  226.209137  ...  342.790  514.6500  1318.86\n",
              "C      105987.0  419.454203  251.856233  ...  353.400  535.7100  1398.20\n",
              "D       63524.0  451.851504  269.872507  ...  385.000  589.9225  1451.12\n",
              "E       31488.0  519.917415  275.117970  ...  480.105  690.1900  1527.00\n",
              "F       11772.0  571.571673  271.340994  ...  552.350  771.3950  1533.81\n",
              "G        3054.0  640.566146  271.857901  ...  598.030  856.3025  1479.49\n",
              "\n",
              "[7 rows x 8 columns]"
            ]
          },
          "metadata": {
            "tags": []
          },
          "execution_count": 17
        }
      ]
    },
    {
      "cell_type": "code",
      "metadata": {
        "id": "Gflt3KVUDrhe",
        "colab_type": "code",
        "colab": {}
      },
      "source": [
        ""
      ],
      "execution_count": 0,
      "outputs": []
    },
    {
      "cell_type": "markdown",
      "metadata": {
        "id": "gKJ6uR8UBRKV",
        "colab_type": "text"
      },
      "source": [
        "Looks like interest rate and installment plays a role in deciding the grade"
      ]
    },
    {
      "cell_type": "markdown",
      "metadata": {
        "id": "2WlEtLGGBRC7",
        "colab_type": "text"
      },
      "source": [
        ""
      ]
    },
    {
      "cell_type": "markdown",
      "metadata": {
        "id": "eXi2hGxUFhIf",
        "colab_type": "text"
      },
      "source": [
        "Lets convert Loan Status column to numeric "
      ]
    },
    {
      "cell_type": "code",
      "metadata": {
        "id": "dqnDVuQIGLud",
        "colab_type": "code",
        "outputId": "6874d637-d224-4036-bdeb-23dc2f02334b",
        "colab": {
          "base_uri": "https://localhost:8080/",
          "height": 34
        }
      },
      "source": [
        "df['loan_status'].unique()"
      ],
      "execution_count": 18,
      "outputs": [
        {
          "output_type": "execute_result",
          "data": {
            "text/plain": [
              "array(['Fully Paid', 'Charged Off'], dtype=object)"
            ]
          },
          "metadata": {
            "tags": []
          },
          "execution_count": 18
        }
      ]
    },
    {
      "cell_type": "code",
      "metadata": {
        "id": "rAbwbH7RGS5p",
        "colab_type": "code",
        "colab": {}
      },
      "source": [
        "df['loan_repaid'] = df['loan_status'].map({'Fully Paid':1,'Charged Off':0})"
      ],
      "execution_count": 0,
      "outputs": []
    },
    {
      "cell_type": "code",
      "metadata": {
        "id": "qde5-0lMGVjZ",
        "colab_type": "code",
        "outputId": "feead9f7-ccd6-441f-de79-9d6b4f88e7f5",
        "colab": {
          "base_uri": "https://localhost:8080/",
          "height": 382
        }
      },
      "source": [
        "loan_repaid_corr = df.corr()['loan_repaid'].sort_values()\n",
        "loan_repaid_corr.drop('loan_repaid').plot(kind='bar')"
      ],
      "execution_count": 20,
      "outputs": [
        {
          "output_type": "execute_result",
          "data": {
            "text/plain": [
              "<matplotlib.axes._subplots.AxesSubplot at 0x7fbb0f269b00>"
            ]
          },
          "metadata": {
            "tags": []
          },
          "execution_count": 20
        },
        {
          "output_type": "display_data",
          "data": {
            "image/png": "[encoded data removed]",
            "text/plain": [
              "<Figure size 432x288 with 1 Axes>"
            ]
          },
          "metadata": {
            "tags": [],
            "needs_background": "light"
          }
        }
      ]
    },
    {
      "cell_type": "markdown",
      "metadata": {
        "id": "X3j1yma6Cah-",
        "colab_type": "text"
      },
      "source": [
        "Loan repaid has a strong negative correlation with interest rate, which makes sense"
      ]
    },
    {
      "cell_type": "markdown",
      "metadata": {
        "id": "FfSV4d2CnxXI",
        "colab_type": "text"
      },
      "source": [
        "# Section 2: Data Preprocessing"
      ]
    },
    {
      "cell_type": "code",
      "metadata": {
        "id": "RQOT2zAfn4_V",
        "colab_type": "code",
        "outputId": "9e0bd695-6ae2-4d4c-874c-1c2455a58d66",
        "colab": {
          "base_uri": "https://localhost:8080/",
          "height": 118
        }
      },
      "source": [
        "missing_val_featues = df.columns[df.isnull().any()].tolist()\n",
        "missing_val_featues"
      ],
      "execution_count": 21,
      "outputs": [
        {
          "output_type": "execute_result",
          "data": {
            "text/plain": [
              "['emp_title',\n",
              " 'emp_length',\n",
              " 'title',\n",
              " 'revol_util',\n",
              " 'mort_acc',\n",
              " 'pub_rec_bankruptcies']"
            ]
          },
          "metadata": {
            "tags": []
          },
          "execution_count": 21
        }
      ]
    },
    {
      "cell_type": "code",
      "metadata": {
        "id": "M62Ovio3ozqu",
        "colab_type": "code",
        "outputId": "04e92331-a8e8-4c0d-9238-d1edc58b57f3",
        "colab": {
          "base_uri": "https://localhost:8080/",
          "height": 134
        }
      },
      "source": [
        "# Percentage of missing values\n",
        "df[missing_val_featues].isnull().sum()/len(df) * 100"
      ],
      "execution_count": 22,
      "outputs": [
        {
          "output_type": "execute_result",
          "data": {
            "text/plain": [
              "emp_title               5.789208\n",
              "emp_length              4.621115\n",
              "title                   0.443148\n",
              "revol_util              0.069692\n",
              "mort_acc                9.543469\n",
              "pub_rec_bankruptcies    0.135091\n",
              "dtype: float64"
            ]
          },
          "metadata": {
            "tags": []
          },
          "execution_count": 22
        }
      ]
    },
    {
      "cell_type": "markdown",
      "metadata": {
        "id": "R4uSY8slqy_X",
        "colab_type": "text"
      },
      "source": [
        "------------------------------\n",
        "### Employement Title:\n"
      ]
    },
    {
      "cell_type": "code",
      "metadata": {
        "id": "7JX6ig7oogRw",
        "colab_type": "code",
        "outputId": "3013b3be-e6af-48f4-c679-0ca1312209c7",
        "colab": {
          "base_uri": "https://localhost:8080/",
          "height": 67
        }
      },
      "source": [
        "df['emp_title'].unique()"
      ],
      "execution_count": 23,
      "outputs": [
        {
          "output_type": "execute_result",
          "data": {
            "text/plain": [
              "array(['Marketing', 'Credit analyst ', 'Statistician', ...,\n",
              "       \"Michael's Arts & Crafts\", 'licensed bankere',\n",
              "       'Gracon Services, Inc'], dtype=object)"
            ]
          },
          "metadata": {
            "tags": []
          },
          "execution_count": 23
        }
      ]
    },
    {
      "cell_type": "code",
      "metadata": {
        "id": "4VFe-B2PooXY",
        "colab_type": "code",
        "outputId": "f77a89e6-9935-45e3-df85-ce0bd831ea37",
        "colab": {
          "base_uri": "https://localhost:8080/",
          "height": 34
        }
      },
      "source": [
        "df['emp_title'].nunique()"
      ],
      "execution_count": 24,
      "outputs": [
        {
          "output_type": "execute_result",
          "data": {
            "text/plain": [
              "173103"
            ]
          },
          "metadata": {
            "tags": []
          },
          "execution_count": 24
        }
      ]
    },
    {
      "cell_type": "markdown",
      "metadata": {
        "id": "iMLMLJyZp3cN",
        "colab_type": "text"
      },
      "source": [
        "It's too many unique values for one-hot encoding, so I'll drop the column"
      ]
    },
    {
      "cell_type": "code",
      "metadata": {
        "id": "PHMBR8S_p03Y",
        "colab_type": "code",
        "colab": {}
      },
      "source": [
        "df = df.drop('emp_title', axis=1)"
      ],
      "execution_count": 0,
      "outputs": []
    },
    {
      "cell_type": "markdown",
      "metadata": {
        "id": "JL_-oaV7q-q1",
        "colab_type": "text"
      },
      "source": [
        "------------------------------\n",
        "### Employement Length:"
      ]
    },
    {
      "cell_type": "code",
      "metadata": {
        "id": "AKCF294DqTzf",
        "colab_type": "code",
        "outputId": "4bae187f-eba9-4925-e05a-89d2eee8ab07",
        "colab": {
          "base_uri": "https://localhost:8080/",
          "height": 34
        }
      },
      "source": [
        "df['emp_length'].nunique()"
      ],
      "execution_count": 26,
      "outputs": [
        {
          "output_type": "execute_result",
          "data": {
            "text/plain": [
              "11"
            ]
          },
          "metadata": {
            "tags": []
          },
          "execution_count": 26
        }
      ]
    },
    {
      "cell_type": "code",
      "metadata": {
        "id": "rT589GaSqkck",
        "colab_type": "code",
        "outputId": "ed86e97e-984b-4fd6-ae5b-dbcdb1e697fb",
        "colab": {
          "base_uri": "https://localhost:8080/",
          "height": 67
        }
      },
      "source": [
        "df['emp_length'].unique()"
      ],
      "execution_count": 27,
      "outputs": [
        {
          "output_type": "execute_result",
          "data": {
            "text/plain": [
              "array(['10+ years', '4 years', '< 1 year', '6 years', '9 years',\n",
              "       '2 years', '3 years', '8 years', '7 years', '5 years', '1 year',\n",
              "       nan], dtype=object)"
            ]
          },
          "metadata": {
            "tags": []
          },
          "execution_count": 27
        }
      ]
    },
    {
      "cell_type": "code",
      "metadata": {
        "id": "0ChkuxWAqokS",
        "colab_type": "code",
        "outputId": "ac4988cc-113a-4b3b-e549-089df2b8225d",
        "colab": {
          "base_uri": "https://localhost:8080/",
          "height": 218
        }
      },
      "source": [
        "df['emp_length'].value_counts().sort_values()"
      ],
      "execution_count": 28,
      "outputs": [
        {
          "output_type": "execute_result",
          "data": {
            "text/plain": [
              "9 years       15314\n",
              "8 years       19168\n",
              "7 years       20819\n",
              "6 years       20841\n",
              "4 years       23952\n",
              "1 year        25882\n",
              "5 years       26495\n",
              "3 years       31665\n",
              "< 1 year      31725\n",
              "2 years       35827\n",
              "10+ years    126041\n",
              "Name: emp_length, dtype: int64"
            ]
          },
          "metadata": {
            "tags": []
          },
          "execution_count": 28
        }
      ]
    },
    {
      "cell_type": "code",
      "metadata": {
        "id": "tUQtYqcV29Fn",
        "colab_type": "code",
        "colab": {}
      },
      "source": [
        ""
      ],
      "execution_count": 0,
      "outputs": []
    },
    {
      "cell_type": "code",
      "metadata": {
        "id": "W8qhclYuqsYz",
        "colab_type": "code",
        "outputId": "f88ebdfb-787c-4a83-d995-47d8ec80a3ec",
        "colab": {
          "base_uri": "https://localhost:8080/",
          "height": 297
        }
      },
      "source": [
        "plt.figure(figsize = (12,4))\n",
        "sns.countplot(x='emp_length', data=df, hue='loan_status')"
      ],
      "execution_count": 29,
      "outputs": [
        {
          "output_type": "execute_result",
          "data": {
            "text/plain": [
              "<matplotlib.axes._subplots.AxesSubplot at 0x7fbb0f1f0b70>"
            ]
          },
          "metadata": {
            "tags": []
          },
          "execution_count": 29
        },
        {
          "output_type": "display_data",
          "data": {
            "image/png": "[encoded data removed]",
            "text/plain": [
              "<Figure size 864x288 with 1 Axes>"
            ]
          },
          "metadata": {
            "tags": [],
            "needs_background": "light"
          }
        }
      ]
    },
    {
      "cell_type": "code",
      "metadata": {
        "id": "RrVgxMriru3K",
        "colab_type": "code",
        "outputId": "e1099b2b-6e7a-416f-ca49-63adf29b3675",
        "colab": {
          "base_uri": "https://localhost:8080/",
          "height": 402
        }
      },
      "source": [
        "df_grp = df.groupby('emp_length')['loan_repaid'].value_counts().unstack().fillna(0)\n",
        "df_grp"
      ],
      "execution_count": 30,
      "outputs": [
        {
          "output_type": "execute_result",
          "data": {
            "text/html": [
              "<div>\n",
              "<style scoped>\n",
              "    .dataframe tbody tr th:only-of-type {\n",
              "        vertical-align: middle;\n",
              "    }\n",
              "\n",
              "    .dataframe tbody tr th {\n",
              "        vertical-align: top;\n",
              "    }\n",
              "\n",
              "    .dataframe thead th {\n",
              "        text-align: right;\n",
              "    }\n",
              "</style>\n",
              "<table border=\"1\" class=\"dataframe\">\n",
              "  <thead>\n",
              "    <tr style=\"text-align: right;\">\n",
              "      <th>loan_repaid</th>\n",
              "      <th>0</th>\n",
              "      <th>1</th>\n",
              "    </tr>\n",
              "    <tr>\n",
              "      <th>emp_length</th>\n",
              "      <th></th>\n",
              "      <th></th>\n",
              "    </tr>\n",
              "  </thead>\n",
              "  <tbody>\n",
              "    <tr>\n",
              "      <th>1 year</th>\n",
              "      <td>5154</td>\n",
              "      <td>20728</td>\n",
              "    </tr>\n",
              "    <tr>\n",
              "      <th>10+ years</th>\n",
              "      <td>23215</td>\n",
              "      <td>102826</td>\n",
              "    </tr>\n",
              "    <tr>\n",
              "      <th>2 years</th>\n",
              "      <td>6924</td>\n",
              "      <td>28903</td>\n",
              "    </tr>\n",
              "    <tr>\n",
              "      <th>3 years</th>\n",
              "      <td>6182</td>\n",
              "      <td>25483</td>\n",
              "    </tr>\n",
              "    <tr>\n",
              "      <th>4 years</th>\n",
              "      <td>4608</td>\n",
              "      <td>19344</td>\n",
              "    </tr>\n",
              "    <tr>\n",
              "      <th>5 years</th>\n",
              "      <td>5092</td>\n",
              "      <td>21403</td>\n",
              "    </tr>\n",
              "    <tr>\n",
              "      <th>6 years</th>\n",
              "      <td>3943</td>\n",
              "      <td>16898</td>\n",
              "    </tr>\n",
              "    <tr>\n",
              "      <th>7 years</th>\n",
              "      <td>4055</td>\n",
              "      <td>16764</td>\n",
              "    </tr>\n",
              "    <tr>\n",
              "      <th>8 years</th>\n",
              "      <td>3829</td>\n",
              "      <td>15339</td>\n",
              "    </tr>\n",
              "    <tr>\n",
              "      <th>9 years</th>\n",
              "      <td>3070</td>\n",
              "      <td>12244</td>\n",
              "    </tr>\n",
              "    <tr>\n",
              "      <th>&lt; 1 year</th>\n",
              "      <td>6563</td>\n",
              "      <td>25162</td>\n",
              "    </tr>\n",
              "  </tbody>\n",
              "</table>\n",
              "</div>"
            ],
            "text/plain": [
              "loan_repaid      0       1\n",
              "emp_length                \n",
              "1 year        5154   20728\n",
              "10+ years    23215  102826\n",
              "2 years       6924   28903\n",
              "3 years       6182   25483\n",
              "4 years       4608   19344\n",
              "5 years       5092   21403\n",
              "6 years       3943   16898\n",
              "7 years       4055   16764\n",
              "8 years       3829   15339\n",
              "9 years       3070   12244\n",
              "< 1 year      6563   25162"
            ]
          },
          "metadata": {
            "tags": []
          },
          "execution_count": 30
        }
      ]
    },
    {
      "cell_type": "code",
      "metadata": {
        "id": "S9eBST7LtTMX",
        "colab_type": "code",
        "outputId": "314b54b6-837f-4e46-f2c8-20afa0d7e2e5",
        "colab": {
          "base_uri": "https://localhost:8080/",
          "height": 402
        }
      },
      "source": [
        "df_grp['charged_off_perc'] = df_grp[0] / (df_grp[1]+ df_grp[0]) * 100\n",
        "df_grp"
      ],
      "execution_count": 31,
      "outputs": [
        {
          "output_type": "execute_result",
          "data": {
            "text/html": [
              "<div>\n",
              "<style scoped>\n",
              "    .dataframe tbody tr th:only-of-type {\n",
              "        vertical-align: middle;\n",
              "    }\n",
              "\n",
              "    .dataframe tbody tr th {\n",
              "        vertical-align: top;\n",
              "    }\n",
              "\n",
              "    .dataframe thead th {\n",
              "        text-align: right;\n",
              "    }\n",
              "</style>\n",
              "<table border=\"1\" class=\"dataframe\">\n",
              "  <thead>\n",
              "    <tr style=\"text-align: right;\">\n",
              "      <th>loan_repaid</th>\n",
              "      <th>0</th>\n",
              "      <th>1</th>\n",
              "      <th>charged_off_perc</th>\n",
              "    </tr>\n",
              "    <tr>\n",
              "      <th>emp_length</th>\n",
              "      <th></th>\n",
              "      <th></th>\n",
              "      <th></th>\n",
              "    </tr>\n",
              "  </thead>\n",
              "  <tbody>\n",
              "    <tr>\n",
              "      <th>1 year</th>\n",
              "      <td>5154</td>\n",
              "      <td>20728</td>\n",
              "      <td>19.913453</td>\n",
              "    </tr>\n",
              "    <tr>\n",
              "      <th>10+ years</th>\n",
              "      <td>23215</td>\n",
              "      <td>102826</td>\n",
              "      <td>18.418610</td>\n",
              "    </tr>\n",
              "    <tr>\n",
              "      <th>2 years</th>\n",
              "      <td>6924</td>\n",
              "      <td>28903</td>\n",
              "      <td>19.326206</td>\n",
              "    </tr>\n",
              "    <tr>\n",
              "      <th>3 years</th>\n",
              "      <td>6182</td>\n",
              "      <td>25483</td>\n",
              "      <td>19.523133</td>\n",
              "    </tr>\n",
              "    <tr>\n",
              "      <th>4 years</th>\n",
              "      <td>4608</td>\n",
              "      <td>19344</td>\n",
              "      <td>19.238477</td>\n",
              "    </tr>\n",
              "    <tr>\n",
              "      <th>5 years</th>\n",
              "      <td>5092</td>\n",
              "      <td>21403</td>\n",
              "      <td>19.218721</td>\n",
              "    </tr>\n",
              "    <tr>\n",
              "      <th>6 years</th>\n",
              "      <td>3943</td>\n",
              "      <td>16898</td>\n",
              "      <td>18.919438</td>\n",
              "    </tr>\n",
              "    <tr>\n",
              "      <th>7 years</th>\n",
              "      <td>4055</td>\n",
              "      <td>16764</td>\n",
              "      <td>19.477400</td>\n",
              "    </tr>\n",
              "    <tr>\n",
              "      <th>8 years</th>\n",
              "      <td>3829</td>\n",
              "      <td>15339</td>\n",
              "      <td>19.976002</td>\n",
              "    </tr>\n",
              "    <tr>\n",
              "      <th>9 years</th>\n",
              "      <td>3070</td>\n",
              "      <td>12244</td>\n",
              "      <td>20.047016</td>\n",
              "    </tr>\n",
              "    <tr>\n",
              "      <th>&lt; 1 year</th>\n",
              "      <td>6563</td>\n",
              "      <td>25162</td>\n",
              "      <td>20.687155</td>\n",
              "    </tr>\n",
              "  </tbody>\n",
              "</table>\n",
              "</div>"
            ],
            "text/plain": [
              "loan_repaid      0       1  charged_off_perc\n",
              "emp_length                                  \n",
              "1 year        5154   20728         19.913453\n",
              "10+ years    23215  102826         18.418610\n",
              "2 years       6924   28903         19.326206\n",
              "3 years       6182   25483         19.523133\n",
              "4 years       4608   19344         19.238477\n",
              "5 years       5092   21403         19.218721\n",
              "6 years       3943   16898         18.919438\n",
              "7 years       4055   16764         19.477400\n",
              "8 years       3829   15339         19.976002\n",
              "9 years       3070   12244         20.047016\n",
              "< 1 year      6563   25162         20.687155"
            ]
          },
          "metadata": {
            "tags": []
          },
          "execution_count": 31
        }
      ]
    },
    {
      "cell_type": "code",
      "metadata": {
        "id": "evKH00wE0nYO",
        "colab_type": "code",
        "outputId": "41b0834c-050b-4ca5-9a06-c224ffda50e7",
        "colab": {
          "base_uri": "https://localhost:8080/",
          "height": 406
        }
      },
      "source": [
        "plt.figure(figsize = (12,6))\n",
        "sns.barplot(x=df_grp.index, y=\"charged_off_perc\", data=df_grp)"
      ],
      "execution_count": 32,
      "outputs": [
        {
          "output_type": "execute_result",
          "data": {
            "text/plain": [
              "<matplotlib.axes._subplots.AxesSubplot at 0x7fbb0f12a198>"
            ]
          },
          "metadata": {
            "tags": []
          },
          "execution_count": 32
        },
        {
          "output_type": "display_data",
          "data": {
            "image/png": "[encoded data removed]",
            "text/plain": [
              "<Figure size 864x432 with 1 Axes>"
            ]
          },
          "metadata": {
            "tags": [],
            "needs_background": "light"
          }
        }
      ]
    },
    {
      "cell_type": "markdown",
      "metadata": {
        "id": "-mcKI_tt8asb",
        "colab_type": "text"
      },
      "source": [
        "Seems like there's no relation between emp_length and loan_status so I'll drop this feature"
      ]
    },
    {
      "cell_type": "code",
      "metadata": {
        "id": "CWCLuBRG4R04",
        "colab_type": "code",
        "colab": {}
      },
      "source": [
        "df = df.drop('emp_length', axis=1)"
      ],
      "execution_count": 0,
      "outputs": []
    },
    {
      "cell_type": "markdown",
      "metadata": {
        "id": "NYAJDDo89EfY",
        "colab_type": "text"
      },
      "source": [
        "------------------------------\n",
        "### Employement Title:"
      ]
    },
    {
      "cell_type": "markdown",
      "metadata": {
        "id": "ALQC8HJn9Qqy",
        "colab_type": "text"
      },
      "source": [
        "first let's find out what 'title' feature is"
      ]
    },
    {
      "cell_type": "code",
      "metadata": {
        "id": "T2e-YsTT50oH",
        "colab_type": "code",
        "outputId": "8aebe11c-6f61-4512-e0eb-46901de0c9a0",
        "colab": {
          "base_uri": "https://localhost:8080/",
          "height": 50
        }
      },
      "source": [
        "df_info.loc['title']"
      ],
      "execution_count": 34,
      "outputs": [
        {
          "output_type": "execute_result",
          "data": {
            "text/plain": [
              "Description    The loan title provided by the borrower\n",
              "Name: title, dtype: object"
            ]
          },
          "metadata": {
            "tags": []
          },
          "execution_count": 34
        }
      ]
    },
    {
      "cell_type": "markdown",
      "metadata": {
        "id": "wYYiHoIJ9uDz",
        "colab_type": "text"
      },
      "source": [
        "Since title and purpose conveys the same info, I'll drop title"
      ]
    },
    {
      "cell_type": "code",
      "metadata": {
        "id": "qNZTeReS517l",
        "colab_type": "code",
        "colab": {}
      },
      "source": [
        "df = df.drop('title', axis=1)"
      ],
      "execution_count": 0,
      "outputs": []
    },
    {
      "cell_type": "markdown",
      "metadata": {
        "id": "eXN5jeFC992q",
        "colab_type": "text"
      },
      "source": [
        "------------------------------\n",
        "### Revolving line utilization rate:"
      ]
    },
    {
      "cell_type": "code",
      "metadata": {
        "id": "rgaQDwBZ53zP",
        "colab_type": "code",
        "outputId": "7a56e255-c2b4-41c4-c6b2-34768f790d42",
        "colab": {
          "base_uri": "https://localhost:8080/",
          "height": 50
        }
      },
      "source": [
        "print(df_info.loc['revol_util'])"
      ],
      "execution_count": 36,
      "outputs": [
        {
          "output_type": "stream",
          "text": [
            "Description    Revolving line utilization rate, or the amount...\n",
            "Name: revol_util, dtype: object\n"
          ],
          "name": "stdout"
        }
      ]
    },
    {
      "cell_type": "code",
      "metadata": {
        "id": "SQ1T6gu8-vkF",
        "colab_type": "code",
        "outputId": "138d984a-d28d-4c44-926e-c3f5636085d3",
        "colab": {
          "base_uri": "https://localhost:8080/",
          "height": 164
        }
      },
      "source": [
        "plt.figure(figsize = (50,4))\n",
        "ax = sns.countplot(x='revol_util', data=df, hue='loan_status')\n",
        "ax.set(ylim=(0,650))"
      ],
      "execution_count": 37,
      "outputs": [
        {
          "output_type": "execute_result",
          "data": {
            "text/plain": [
              "[(0.0, 650.0)]"
            ]
          },
          "metadata": {
            "tags": []
          },
          "execution_count": 37
        },
        {
          "output_type": "display_data",
          "data": {
            "image/png": "[encoded data removed]",
            "text/plain": [
              "<Figure size 3600x288 with 1 Axes>"
            ]
          },
          "metadata": {
            "tags": [],
            "needs_background": "light"
          }
        }
      ]
    },
    {
      "cell_type": "markdown",
      "metadata": {
        "id": "cGtAaCHYHXtZ",
        "colab_type": "text"
      },
      "source": [
        "The graph isn't very clear but it can be seen that revol_util doesn't have a strong effect on loans being charged off"
      ]
    },
    {
      "cell_type": "code",
      "metadata": {
        "id": "xxoDakXAA6hh",
        "colab_type": "code",
        "colab": {}
      },
      "source": [
        "df = df.drop('revol_util', axis=1)"
      ],
      "execution_count": 0,
      "outputs": []
    },
    {
      "cell_type": "markdown",
      "metadata": {
        "id": "5bJZIy_mKaog",
        "colab_type": "text"
      },
      "source": [
        "------------------------------\n",
        "### pub_rec_bankruptcies:"
      ]
    },
    {
      "cell_type": "code",
      "metadata": {
        "id": "-2HmycXRI_DW",
        "colab_type": "code",
        "outputId": "35653029-81bc-42f7-cad1-e947cefaf7a3",
        "colab": {
          "base_uri": "https://localhost:8080/",
          "height": 50
        }
      },
      "source": [
        "print(df_info.loc['pub_rec_bankruptcies'])    "
      ],
      "execution_count": 39,
      "outputs": [
        {
          "output_type": "stream",
          "text": [
            "Description    Number of public record bankruptcies\n",
            "Name: pub_rec_bankruptcies, dtype: object\n"
          ],
          "name": "stdout"
        }
      ]
    },
    {
      "cell_type": "code",
      "metadata": {
        "id": "BmsqMCyCKmoX",
        "colab_type": "code",
        "outputId": "4b7b9a67-0029-4d9c-e6b8-3461aa913996",
        "colab": {
          "base_uri": "https://localhost:8080/",
          "height": 34
        }
      },
      "source": [
        "df['pub_rec_bankruptcies'].unique()"
      ],
      "execution_count": 40,
      "outputs": [
        {
          "output_type": "execute_result",
          "data": {
            "text/plain": [
              "array([ 0.,  1.,  2.,  3., nan,  4.,  5.,  6.,  7.,  8.])"
            ]
          },
          "metadata": {
            "tags": []
          },
          "execution_count": 40
        }
      ]
    },
    {
      "cell_type": "code",
      "metadata": {
        "id": "hYswGYb-Ld1g",
        "colab_type": "code",
        "outputId": "4808dc04-163c-4f43-a24c-f90c25831cbb",
        "colab": {
          "base_uri": "https://localhost:8080/",
          "height": 185
        }
      },
      "source": [
        "df['pub_rec_bankruptcies'].value_counts()"
      ],
      "execution_count": 41,
      "outputs": [
        {
          "output_type": "execute_result",
          "data": {
            "text/plain": [
              "0.0    350380\n",
              "1.0     42790\n",
              "2.0      1847\n",
              "3.0       351\n",
              "4.0        82\n",
              "5.0        32\n",
              "6.0         7\n",
              "7.0         4\n",
              "8.0         2\n",
              "Name: pub_rec_bankruptcies, dtype: int64"
            ]
          },
          "metadata": {
            "tags": []
          },
          "execution_count": 41
        }
      ]
    },
    {
      "cell_type": "code",
      "metadata": {
        "id": "L9xp6NjaLh8C",
        "colab_type": "code",
        "outputId": "79920f77-cb70-4f10-a728-443f7a3e5a1a",
        "colab": {
          "base_uri": "https://localhost:8080/",
          "height": 715
        }
      },
      "source": [
        "plt.figure(figsize = (8,12))\n",
        "ax = sns.countplot(x='pub_rec_bankruptcies', data=df, hue='loan_status')\n",
        "# ax.set(ylim=(0,650))"
      ],
      "execution_count": 42,
      "outputs": [
        {
          "output_type": "display_data",
          "data": {
            "image/png": "[encoded data removed]",
            "text/plain": [
              "<Figure size 576x864 with 1 Axes>"
            ]
          },
          "metadata": {
            "tags": [],
            "needs_background": "light"
          }
        }
      ]
    },
    {
      "cell_type": "code",
      "metadata": {
        "id": "OQvW7HF1Lqnj",
        "colab_type": "code",
        "outputId": "2052828a-419f-4b17-873f-8fe937b75b5b",
        "colab": {
          "base_uri": "https://localhost:8080/",
          "height": 297
        }
      },
      "source": [
        "sns.scatterplot(x='pub_rec',y='pub_rec_bankruptcies',data=df)"
      ],
      "execution_count": 43,
      "outputs": [
        {
          "output_type": "execute_result",
          "data": {
            "text/plain": [
              "<matplotlib.axes._subplots.AxesSubplot at 0x7fbb0f056128>"
            ]
          },
          "metadata": {
            "tags": []
          },
          "execution_count": 43
        },
        {
          "output_type": "display_data",
          "data": {
            "image/png": "[encoded data removed]",
            "text/plain": [
              "<Figure size 432x288 with 1 Axes>"
            ]
          },
          "metadata": {
            "tags": [],
            "needs_background": "light"
          }
        }
      ]
    },
    {
      "cell_type": "code",
      "metadata": {
        "id": "b6Gm_g4YM0Kr",
        "colab_type": "code",
        "outputId": "e0aaf2d3-6d69-4b23-a983-87a4084c7dd6",
        "colab": {
          "base_uri": "https://localhost:8080/",
          "height": 84
        }
      },
      "source": [
        "df[df['pub_rec_bankruptcies'].isnull()]['pub_rec'].value_counts()"
      ],
      "execution_count": 44,
      "outputs": [
        {
          "output_type": "execute_result",
          "data": {
            "text/plain": [
              "0    517\n",
              "1     17\n",
              "2      1\n",
              "Name: pub_rec, dtype: int64"
            ]
          },
          "metadata": {
            "tags": []
          },
          "execution_count": 44
        }
      ]
    },
    {
      "cell_type": "code",
      "metadata": {
        "id": "XepPtqHi-2iA",
        "colab_type": "code",
        "colab": {}
      },
      "source": [
        "def fill_missing_vals(x, y, avg_series):\n",
        "    '''\n",
        "    Accepts x and y values for the row.\n",
        "    Checks if the y is NaN , if so, it returns the avg value of y for x\n",
        "    '''\n",
        "    if np.isnan(y):\n",
        "        return avg_series[x]\n",
        "    else:\n",
        "        return y"
      ],
      "execution_count": 0,
      "outputs": []
    },
    {
      "cell_type": "code",
      "metadata": {
        "id": "0IXk_384-2WS",
        "colab_type": "code",
        "outputId": "c39f8af1-f5de-4003-ead0-a77b4427cd2b",
        "colab": {
          "base_uri": "https://localhost:8080/",
          "height": 386
        }
      },
      "source": [
        "pub_rec_bankruptcies_avg = np.round(df.groupby('pub_rec').mean()['pub_rec_bankruptcies'], 0)\n",
        "pub_rec_bankruptcies_avg"
      ],
      "execution_count": 46,
      "outputs": [
        {
          "output_type": "execute_result",
          "data": {
            "text/plain": [
              "pub_rec\n",
              "0     0.0\n",
              "1     1.0\n",
              "2     1.0\n",
              "3     1.0\n",
              "4     1.0\n",
              "5     1.0\n",
              "6     1.0\n",
              "7     1.0\n",
              "8     1.0\n",
              "9     1.0\n",
              "10    0.0\n",
              "11    0.0\n",
              "12    1.0\n",
              "13    0.0\n",
              "15    0.0\n",
              "17    1.0\n",
              "19    1.0\n",
              "24    0.0\n",
              "40    1.0\n",
              "86    1.0\n",
              "Name: pub_rec_bankruptcies, dtype: float64"
            ]
          },
          "metadata": {
            "tags": []
          },
          "execution_count": 46
        }
      ]
    },
    {
      "cell_type": "code",
      "metadata": {
        "id": "dMH85kIl-2M6",
        "colab_type": "code",
        "colab": {}
      },
      "source": [
        "df['pub_rec_bankruptcies'] = df.apply(lambda x: fill_missing_vals(x['pub_rec'], x['pub_rec_bankruptcies'], avg_series=pub_rec_bankruptcies_avg), axis=1)"
      ],
      "execution_count": 0,
      "outputs": []
    },
    {
      "cell_type": "code",
      "metadata": {
        "id": "aPeXLDiFBzVS",
        "colab_type": "code",
        "outputId": "c9c5f788-5e18-40e7-d2e4-87222c249f9e",
        "colab": {
          "base_uri": "https://localhost:8080/",
          "height": 67
        }
      },
      "source": [
        "df[df['pub_rec_bankruptcies'].isnull()]"
      ],
      "execution_count": 48,
      "outputs": [
        {
          "output_type": "execute_result",
          "data": {
            "text/html": [
              "<div>\n",
              "<style scoped>\n",
              "    .dataframe tbody tr th:only-of-type {\n",
              "        vertical-align: middle;\n",
              "    }\n",
              "\n",
              "    .dataframe tbody tr th {\n",
              "        vertical-align: top;\n",
              "    }\n",
              "\n",
              "    .dataframe thead th {\n",
              "        text-align: right;\n",
              "    }\n",
              "</style>\n",
              "<table border=\"1\" class=\"dataframe\">\n",
              "  <thead>\n",
              "    <tr style=\"text-align: right;\">\n",
              "      <th></th>\n",
              "      <th>loan_amnt</th>\n",
              "      <th>term</th>\n",
              "      <th>int_rate</th>\n",
              "      <th>installment</th>\n",
              "      <th>grade</th>\n",
              "      <th>sub_grade</th>\n",
              "      <th>home_ownership</th>\n",
              "      <th>annual_inc</th>\n",
              "      <th>verification_status</th>\n",
              "      <th>issue_d</th>\n",
              "      <th>loan_status</th>\n",
              "      <th>purpose</th>\n",
              "      <th>dti</th>\n",
              "      <th>earliest_cr_line</th>\n",
              "      <th>open_acc</th>\n",
              "      <th>pub_rec</th>\n",
              "      <th>revol_bal</th>\n",
              "      <th>total_acc</th>\n",
              "      <th>initial_list_status</th>\n",
              "      <th>application_type</th>\n",
              "      <th>mort_acc</th>\n",
              "      <th>pub_rec_bankruptcies</th>\n",
              "      <th>address</th>\n",
              "      <th>loan_repaid</th>\n",
              "    </tr>\n",
              "  </thead>\n",
              "  <tbody>\n",
              "  </tbody>\n",
              "</table>\n",
              "</div>"
            ],
            "text/plain": [
              "Empty DataFrame\n",
              "Columns: [loan_amnt, term, int_rate, installment, grade, sub_grade, home_ownership, annual_inc, verification_status, issue_d, loan_status, purpose, dti, earliest_cr_line, open_acc, pub_rec, revol_bal, total_acc, initial_list_status, application_type, mort_acc, pub_rec_bankruptcies, address, loan_repaid]\n",
              "Index: []"
            ]
          },
          "metadata": {
            "tags": []
          },
          "execution_count": 48
        }
      ]
    },
    {
      "cell_type": "code",
      "metadata": {
        "id": "dDeP1Y-kCWAU",
        "colab_type": "code",
        "colab": {}
      },
      "source": [
        ""
      ],
      "execution_count": 0,
      "outputs": []
    },
    {
      "cell_type": "markdown",
      "metadata": {
        "id": "Do-v228PzbVk",
        "colab_type": "text"
      },
      "source": [
        "------------------------------\n",
        "### mort_acc:"
      ]
    },
    {
      "cell_type": "code",
      "metadata": {
        "id": "tQcU85vBzbHb",
        "colab_type": "code",
        "outputId": "220f8da0-3e26-4c68-9339-523fb8e6bb59",
        "colab": {
          "base_uri": "https://localhost:8080/",
          "height": 50
        }
      },
      "source": [
        "print(df_info.loc['mort_acc'])"
      ],
      "execution_count": 49,
      "outputs": [
        {
          "output_type": "stream",
          "text": [
            "Description    Number of mortgage accounts.\n",
            "Name: mort_acc, dtype: object\n"
          ],
          "name": "stdout"
        }
      ]
    },
    {
      "cell_type": "code",
      "metadata": {
        "id": "YVDI37Rt2BqK",
        "colab_type": "code",
        "outputId": "3de12e68-9b09-4306-d93c-a6c5b5b91ebd",
        "colab": {
          "base_uri": "https://localhost:8080/",
          "height": 297
        }
      },
      "source": [
        "sns.scatterplot(x='total_acc',y='mort_acc',data=df)"
      ],
      "execution_count": 50,
      "outputs": [
        {
          "output_type": "execute_result",
          "data": {
            "text/plain": [
              "<matplotlib.axes._subplots.AxesSubplot at 0x7fbb14eb70b8>"
            ]
          },
          "metadata": {
            "tags": []
          },
          "execution_count": 50
        },
        {
          "output_type": "display_data",
          "data": {
            "image/png": "[encoded data removed]",
            "text/plain": [
              "<Figure size 432x288 with 1 Axes>"
            ]
          },
          "metadata": {
            "tags": [],
            "needs_background": "light"
          }
        }
      ]
    },
    {
      "cell_type": "code",
      "metadata": {
        "id": "h82n63Dq11rA",
        "colab_type": "code",
        "outputId": "abe38721-b38c-4d82-fb1a-14d1c79c25a6",
        "colab": {
          "base_uri": "https://localhost:8080/",
          "height": 218
        }
      },
      "source": [
        "df[df['mort_acc'].isnull()]['total_acc'].value_counts()"
      ],
      "execution_count": 51,
      "outputs": [
        {
          "output_type": "execute_result",
          "data": {
            "text/plain": [
              "17    1437\n",
              "16    1427\n",
              "15    1424\n",
              "21    1386\n",
              "13    1367\n",
              "      ... \n",
              "72       1\n",
              "73       1\n",
              "81       1\n",
              "80       1\n",
              "87       1\n",
              "Name: total_acc, Length: 79, dtype: int64"
            ]
          },
          "metadata": {
            "tags": []
          },
          "execution_count": 51
        }
      ]
    },
    {
      "cell_type": "code",
      "metadata": {
        "id": "CnOtsPwN5ja7",
        "colab_type": "code",
        "outputId": "0f45eed6-ff5e-4254-80a8-bb4b8abb9ebd",
        "colab": {
          "base_uri": "https://localhost:8080/",
          "height": 235
        }
      },
      "source": [
        "mort_acc_avg = df.groupby('total_acc').mean()['mort_acc']\n",
        "mort_acc_avg"
      ],
      "execution_count": 52,
      "outputs": [
        {
          "output_type": "execute_result",
          "data": {
            "text/plain": [
              "total_acc\n",
              "2      0.000000\n",
              "3      0.052023\n",
              "4      0.066743\n",
              "5      0.103289\n",
              "6      0.151293\n",
              "         ...   \n",
              "124    1.000000\n",
              "129    1.000000\n",
              "135    3.000000\n",
              "150    2.000000\n",
              "151    0.000000\n",
              "Name: mort_acc, Length: 118, dtype: float64"
            ]
          },
          "metadata": {
            "tags": []
          },
          "execution_count": 52
        }
      ]
    },
    {
      "cell_type": "code",
      "metadata": {
        "id": "g0kQ-0Rc9Iu5",
        "colab_type": "code",
        "colab": {}
      },
      "source": [
        "df['mort_acc'] = df.apply(lambda x: fill_missing_vals(x['total_acc'], x['mort_acc'], mort_acc_avg), axis=1)"
      ],
      "execution_count": 0,
      "outputs": []
    },
    {
      "cell_type": "code",
      "metadata": {
        "id": "X4LoMFwo9LtH",
        "colab_type": "code",
        "outputId": "b75c7e07-5c27-4096-e1f0-19886a907ff9",
        "colab": {
          "base_uri": "https://localhost:8080/",
          "height": 67
        }
      },
      "source": [
        "df[df['mort_acc'].isnull()]"
      ],
      "execution_count": 54,
      "outputs": [
        {
          "output_type": "execute_result",
          "data": {
            "text/html": [
              "<div>\n",
              "<style scoped>\n",
              "    .dataframe tbody tr th:only-of-type {\n",
              "        vertical-align: middle;\n",
              "    }\n",
              "\n",
              "    .dataframe tbody tr th {\n",
              "        vertical-align: top;\n",
              "    }\n",
              "\n",
              "    .dataframe thead th {\n",
              "        text-align: right;\n",
              "    }\n",
              "</style>\n",
              "<table border=\"1\" class=\"dataframe\">\n",
              "  <thead>\n",
              "    <tr style=\"text-align: right;\">\n",
              "      <th></th>\n",
              "      <th>loan_amnt</th>\n",
              "      <th>term</th>\n",
              "      <th>int_rate</th>\n",
              "      <th>installment</th>\n",
              "      <th>grade</th>\n",
              "      <th>sub_grade</th>\n",
              "      <th>home_ownership</th>\n",
              "      <th>annual_inc</th>\n",
              "      <th>verification_status</th>\n",
              "      <th>issue_d</th>\n",
              "      <th>loan_status</th>\n",
              "      <th>purpose</th>\n",
              "      <th>dti</th>\n",
              "      <th>earliest_cr_line</th>\n",
              "      <th>open_acc</th>\n",
              "      <th>pub_rec</th>\n",
              "      <th>revol_bal</th>\n",
              "      <th>total_acc</th>\n",
              "      <th>initial_list_status</th>\n",
              "      <th>application_type</th>\n",
              "      <th>mort_acc</th>\n",
              "      <th>pub_rec_bankruptcies</th>\n",
              "      <th>address</th>\n",
              "      <th>loan_repaid</th>\n",
              "    </tr>\n",
              "  </thead>\n",
              "  <tbody>\n",
              "  </tbody>\n",
              "</table>\n",
              "</div>"
            ],
            "text/plain": [
              "Empty DataFrame\n",
              "Columns: [loan_amnt, term, int_rate, installment, grade, sub_grade, home_ownership, annual_inc, verification_status, issue_d, loan_status, purpose, dti, earliest_cr_line, open_acc, pub_rec, revol_bal, total_acc, initial_list_status, application_type, mort_acc, pub_rec_bankruptcies, address, loan_repaid]\n",
              "Index: []"
            ]
          },
          "metadata": {
            "tags": []
          },
          "execution_count": 54
        }
      ]
    },
    {
      "cell_type": "markdown",
      "metadata": {
        "id": "tO9dj_dDF8No",
        "colab_type": "text"
      },
      "source": [
        "---\n",
        "## Categorical Variables and Dummy Variables\n",
        "---"
      ]
    },
    {
      "cell_type": "code",
      "metadata": {
        "id": "fGTuyw7c-Rh6",
        "colab_type": "code",
        "outputId": "2f3c3106-3662-4dc3-ba6b-acaca0ec380f",
        "colab": {
          "base_uri": "https://localhost:8080/",
          "height": 84
        }
      },
      "source": [
        "df.select_dtypes(['object']).columns"
      ],
      "execution_count": 55,
      "outputs": [
        {
          "output_type": "execute_result",
          "data": {
            "text/plain": [
              "Index(['term', 'grade', 'sub_grade', 'home_ownership', 'verification_status',\n",
              "       'issue_d', 'loan_status', 'purpose', 'earliest_cr_line',\n",
              "       'initial_list_status', 'application_type', 'address'],\n",
              "      dtype='object')"
            ]
          },
          "metadata": {
            "tags": []
          },
          "execution_count": 55
        }
      ]
    },
    {
      "cell_type": "markdown",
      "metadata": {
        "id": "Bh35bkceHNJw",
        "colab_type": "text"
      },
      "source": [
        "### term"
      ]
    },
    {
      "cell_type": "code",
      "metadata": {
        "id": "uszOOVauF6Xz",
        "colab_type": "code",
        "outputId": "7e405e4f-796d-4ae4-d7b1-6e48d6e756a9",
        "colab": {
          "base_uri": "https://localhost:8080/",
          "height": 67
        }
      },
      "source": [
        "df['term'].value_counts()"
      ],
      "execution_count": 56,
      "outputs": [
        {
          "output_type": "execute_result",
          "data": {
            "text/plain": [
              " 36 months    302005\n",
              " 60 months     94025\n",
              "Name: term, dtype: int64"
            ]
          },
          "metadata": {
            "tags": []
          },
          "execution_count": 56
        }
      ]
    },
    {
      "cell_type": "code",
      "metadata": {
        "id": "V2cB72bBI5I6",
        "colab_type": "code",
        "colab": {}
      },
      "source": [
        "df['term'] = df['term'].apply(lambda x: int(x[:3]))"
      ],
      "execution_count": 0,
      "outputs": []
    },
    {
      "cell_type": "code",
      "metadata": {
        "id": "gVZXlJjUJBzV",
        "colab_type": "code",
        "outputId": "524c4ff8-a5e9-4480-ce94-b7186f033f16",
        "colab": {
          "base_uri": "https://localhost:8080/",
          "height": 218
        }
      },
      "source": [
        "df['term']"
      ],
      "execution_count": 58,
      "outputs": [
        {
          "output_type": "execute_result",
          "data": {
            "text/plain": [
              "0         36\n",
              "1         36\n",
              "2         36\n",
              "3         36\n",
              "4         60\n",
              "          ..\n",
              "396025    60\n",
              "396026    36\n",
              "396027    36\n",
              "396028    60\n",
              "396029    36\n",
              "Name: term, Length: 396030, dtype: int64"
            ]
          },
          "metadata": {
            "tags": []
          },
          "execution_count": 58
        }
      ]
    },
    {
      "cell_type": "markdown",
      "metadata": {
        "id": "gMSE7ftOKrO0",
        "colab_type": "text"
      },
      "source": [
        "### grade"
      ]
    },
    {
      "cell_type": "code",
      "metadata": {
        "id": "Gnhu2mNOJq0v",
        "colab_type": "code",
        "outputId": "2b11652c-3363-47ef-8003-06655f5a0cf3",
        "colab": {
          "base_uri": "https://localhost:8080/",
          "height": 151
        }
      },
      "source": [
        "df['grade'].value_counts()"
      ],
      "execution_count": 59,
      "outputs": [
        {
          "output_type": "execute_result",
          "data": {
            "text/plain": [
              "B    116018\n",
              "C    105987\n",
              "A     64187\n",
              "D     63524\n",
              "E     31488\n",
              "F     11772\n",
              "G      3054\n",
              "Name: grade, dtype: int64"
            ]
          },
          "metadata": {
            "tags": []
          },
          "execution_count": 59
        }
      ]
    },
    {
      "cell_type": "code",
      "metadata": {
        "id": "MHOGeTYtMHrr",
        "colab_type": "code",
        "outputId": "eedbcc35-e481-4c63-8745-1eb05dd62b72",
        "colab": {
          "base_uri": "https://localhost:8080/",
          "height": 296
        }
      },
      "source": [
        "sorted_grade = sorted(df['grade'].unique())\n",
        "sns.countplot(x='grade',data=df,hue='loan_status', order=sorted_grade)"
      ],
      "execution_count": 60,
      "outputs": [
        {
          "output_type": "execute_result",
          "data": {
            "text/plain": [
              "<matplotlib.axes._subplots.AxesSubplot at 0x7fbb10e66438>"
            ]
          },
          "metadata": {
            "tags": []
          },
          "execution_count": 60
        },
        {
          "output_type": "display_data",
          "data": {
            "image/png": "[encoded data removed]",
            "text/plain": [
              "<Figure size 432x288 with 1 Axes>"
            ]
          },
          "metadata": {
            "tags": [],
            "needs_background": "light"
          }
        }
      ]
    },
    {
      "cell_type": "code",
      "metadata": {
        "id": "D8O-lq5mLB2g",
        "colab_type": "code",
        "outputId": "6508cde1-8af2-4c51-a4c4-31029c2084bc",
        "colab": {
          "base_uri": "https://localhost:8080/",
          "height": 622
        }
      },
      "source": [
        "df['sub_grade'].value_counts()"
      ],
      "execution_count": 61,
      "outputs": [
        {
          "output_type": "execute_result",
          "data": {
            "text/plain": [
              "B3    26655\n",
              "B4    25601\n",
              "C1    23662\n",
              "C2    22580\n",
              "B2    22495\n",
              "B5    22085\n",
              "C3    21221\n",
              "C4    20280\n",
              "B1    19182\n",
              "A5    18526\n",
              "C5    18244\n",
              "D1    15993\n",
              "A4    15789\n",
              "D2    13951\n",
              "D3    12223\n",
              "D4    11657\n",
              "A3    10576\n",
              "A1     9729\n",
              "D5     9700\n",
              "A2     9567\n",
              "E1     7917\n",
              "E2     7431\n",
              "E3     6207\n",
              "E4     5361\n",
              "E5     4572\n",
              "F1     3536\n",
              "F2     2766\n",
              "F3     2286\n",
              "F4     1787\n",
              "F5     1397\n",
              "G1     1058\n",
              "G2      754\n",
              "G3      552\n",
              "G4      374\n",
              "G5      316\n",
              "Name: sub_grade, dtype: int64"
            ]
          },
          "metadata": {
            "tags": []
          },
          "execution_count": 61
        }
      ]
    },
    {
      "cell_type": "code",
      "metadata": {
        "id": "Pm8iLp3pLQ0D",
        "colab_type": "code",
        "outputId": "afebde3b-324f-4ab7-d0be-36e01cd3feb6",
        "colab": {
          "base_uri": "https://localhost:8080/",
          "height": 297
        }
      },
      "source": [
        "sorted_sub_grade = sorted(df['sub_grade'].unique())\n",
        "\n",
        "plt.figure(figsize=(12,4))\n",
        "sns.countplot(x='sub_grade',data=df, order=sorted_sub_grade, hue='loan_status')"
      ],
      "execution_count": 62,
      "outputs": [
        {
          "output_type": "execute_result",
          "data": {
            "text/plain": [
              "<matplotlib.axes._subplots.AxesSubplot at 0x7fbb10d6b908>"
            ]
          },
          "metadata": {
            "tags": []
          },
          "execution_count": 62
        },
        {
          "output_type": "display_data",
          "data": {
            "image/png": "[encoded data removed]",
            "text/plain": [
              "<Figure size 864x288 with 1 Axes>"
            ]
          },
          "metadata": {
            "tags": [],
            "needs_background": "light"
          }
        }
      ]
    },
    {
      "cell_type": "markdown",
      "metadata": {
        "id": "7zaRxaG4NXWI",
        "colab_type": "text"
      },
      "source": [
        "##### Since Sub-Grade is detailed version on Grade, I will drop grade and categorize sub-grade as nominal feature. I don't know exactly how grade and sub-grade are assigned and if they are ordinal "
      ]
    },
    {
      "cell_type": "code",
      "metadata": {
        "id": "assaqjZQNUqr",
        "colab_type": "code",
        "colab": {}
      },
      "source": [
        "df = df.drop('grade',axis=1)"
      ],
      "execution_count": 0,
      "outputs": []
    },
    {
      "cell_type": "code",
      "metadata": {
        "id": "5QqawVEEMLSc",
        "colab_type": "code",
        "colab": {}
      },
      "source": [
        "subgrade_dummies = pd.get_dummies(df['sub_grade'],drop_first=True)"
      ],
      "execution_count": 0,
      "outputs": []
    },
    {
      "cell_type": "code",
      "metadata": {
        "id": "KIwyRepMORwD",
        "colab_type": "code",
        "colab": {}
      },
      "source": [
        "df = pd.concat([df.drop('sub_grade',axis=1),subgrade_dummies],axis=1)"
      ],
      "execution_count": 0,
      "outputs": []
    },
    {
      "cell_type": "code",
      "metadata": {
        "id": "NHZTsh4KOTFA",
        "colab_type": "code",
        "outputId": "5216225a-af95-49ae-ac47-aca790628aac",
        "colab": {
          "base_uri": "https://localhost:8080/",
          "height": 168
        }
      },
      "source": [
        "df.columns"
      ],
      "execution_count": 66,
      "outputs": [
        {
          "output_type": "execute_result",
          "data": {
            "text/plain": [
              "Index(['loan_amnt', 'term', 'int_rate', 'installment', 'home_ownership',\n",
              "       'annual_inc', 'verification_status', 'issue_d', 'loan_status',\n",
              "       'purpose', 'dti', 'earliest_cr_line', 'open_acc', 'pub_rec',\n",
              "       'revol_bal', 'total_acc', 'initial_list_status', 'application_type',\n",
              "       'mort_acc', 'pub_rec_bankruptcies', 'address', 'loan_repaid', 'A2',\n",
              "       'A3', 'A4', 'A5', 'B1', 'B2', 'B3', 'B4', 'B5', 'C1', 'C2', 'C3', 'C4',\n",
              "       'C5', 'D1', 'D2', 'D3', 'D4', 'D5', 'E1', 'E2', 'E3', 'E4', 'E5', 'F1',\n",
              "       'F2', 'F3', 'F4', 'F5', 'G1', 'G2', 'G3', 'G4', 'G5'],\n",
              "      dtype='object')"
            ]
          },
          "metadata": {
            "tags": []
          },
          "execution_count": 66
        }
      ]
    },
    {
      "cell_type": "markdown",
      "metadata": {
        "id": "csEnGc-zOaOi",
        "colab_type": "text"
      },
      "source": [
        "### home_ownership"
      ]
    },
    {
      "cell_type": "code",
      "metadata": {
        "id": "j_qO1pvvOUER",
        "colab_type": "code",
        "outputId": "35786064-80ff-4949-d58c-8b0474a06385",
        "colab": {
          "base_uri": "https://localhost:8080/",
          "height": 134
        }
      },
      "source": [
        "df['home_ownership'].value_counts()"
      ],
      "execution_count": 67,
      "outputs": [
        {
          "output_type": "execute_result",
          "data": {
            "text/plain": [
              "MORTGAGE    198348\n",
              "RENT        159790\n",
              "OWN          37746\n",
              "OTHER          112\n",
              "NONE            31\n",
              "ANY              3\n",
              "Name: home_ownership, dtype: int64"
            ]
          },
          "metadata": {
            "tags": []
          },
          "execution_count": 67
        }
      ]
    },
    {
      "cell_type": "code",
      "metadata": {
        "id": "iv7qbXcQPDQx",
        "colab_type": "code",
        "colab": {}
      },
      "source": [
        "df['home_ownership'] = df['home_ownership'].replace(['NONE', 'ANY'], 'OTHER')"
      ],
      "execution_count": 0,
      "outputs": []
    },
    {
      "cell_type": "code",
      "metadata": {
        "id": "wBRjEu8TPf4P",
        "colab_type": "code",
        "colab": {}
      },
      "source": [
        "subgrade_home_ownership = pd.get_dummies(df['home_ownership'],drop_first=True)"
      ],
      "execution_count": 0,
      "outputs": []
    },
    {
      "cell_type": "code",
      "metadata": {
        "id": "cHw0uyfiQAfF",
        "colab_type": "code",
        "colab": {}
      },
      "source": [
        "df = pd.concat([df.drop('home_ownership',axis=1),subgrade_home_ownership],axis=1)"
      ],
      "execution_count": 0,
      "outputs": []
    },
    {
      "cell_type": "markdown",
      "metadata": {
        "id": "dZ0fsFpZQU6G",
        "colab_type": "text"
      },
      "source": [
        "### verification_status"
      ]
    },
    {
      "cell_type": "code",
      "metadata": {
        "id": "2nHUyihkQNfC",
        "colab_type": "code",
        "outputId": "53532d16-036f-4875-9abd-68908720771c",
        "colab": {
          "base_uri": "https://localhost:8080/",
          "height": 84
        }
      },
      "source": [
        "df['verification_status'].value_counts()"
      ],
      "execution_count": 71,
      "outputs": [
        {
          "output_type": "execute_result",
          "data": {
            "text/plain": [
              "Verified           139563\n",
              "Source Verified    131385\n",
              "Not Verified       125082\n",
              "Name: verification_status, dtype: int64"
            ]
          },
          "metadata": {
            "tags": []
          },
          "execution_count": 71
        }
      ]
    },
    {
      "cell_type": "code",
      "metadata": {
        "id": "h7JJoO_-RI8M",
        "colab_type": "code",
        "outputId": "24a315c8-1cd7-44ba-af53-d1a86303fc33",
        "colab": {
          "base_uri": "https://localhost:8080/",
          "height": 50
        }
      },
      "source": [
        "print(df_info.loc['verification_status'])"
      ],
      "execution_count": 72,
      "outputs": [
        {
          "output_type": "stream",
          "text": [
            "Description    Indicates if income was verified by LC, not ve...\n",
            "Name: verification_status, dtype: object\n"
          ],
          "name": "stdout"
        }
      ]
    },
    {
      "cell_type": "code",
      "metadata": {
        "id": "BgjDeHe9RW_2",
        "colab_type": "code",
        "colab": {}
      },
      "source": [
        "verification_status_dummies = pd.get_dummies(df['verification_status'],drop_first=True)"
      ],
      "execution_count": 0,
      "outputs": []
    },
    {
      "cell_type": "code",
      "metadata": {
        "id": "aPA30Mn8Sfmr",
        "colab_type": "code",
        "colab": {}
      },
      "source": [
        "df = pd.concat([df.drop('verification_status',axis=1),verification_status_dummies],axis=1)"
      ],
      "execution_count": 0,
      "outputs": []
    },
    {
      "cell_type": "markdown",
      "metadata": {
        "id": "X8tTl2KFSvAn",
        "colab_type": "text"
      },
      "source": [
        "### issue_d"
      ]
    },
    {
      "cell_type": "code",
      "metadata": {
        "id": "hL_BhTmXSuVm",
        "colab_type": "code",
        "outputId": "67868c1d-03b8-4fff-8c2a-b16331c68670",
        "colab": {
          "base_uri": "https://localhost:8080/",
          "height": 218
        }
      },
      "source": [
        "df['issue_d'].value_counts()"
      ],
      "execution_count": 75,
      "outputs": [
        {
          "output_type": "execute_result",
          "data": {
            "text/plain": [
              "Oct-14    14846\n",
              "Jul-14    12609\n",
              "Jan-15    11705\n",
              "Dec-13    10618\n",
              "Nov-13    10496\n",
              "          ...  \n",
              "Aug-07       26\n",
              "Sep-08       25\n",
              "Nov-07       22\n",
              "Sep-07       15\n",
              "Jun-07        1\n",
              "Name: issue_d, Length: 115, dtype: int64"
            ]
          },
          "metadata": {
            "tags": []
          },
          "execution_count": 75
        }
      ]
    },
    {
      "cell_type": "markdown",
      "metadata": {
        "id": "gKseSZc-UjUi",
        "colab_type": "text"
      },
      "source": [
        "##### I will drop this feature as loan issue date doesn't have to do much with the loan status "
      ]
    },
    {
      "cell_type": "code",
      "metadata": {
        "id": "UvSsN4bTT9vO",
        "colab_type": "code",
        "colab": {}
      },
      "source": [
        "df = df.drop('issue_d', axis=1)"
      ],
      "execution_count": 0,
      "outputs": []
    },
    {
      "cell_type": "markdown",
      "metadata": {
        "id": "SI5NvrA-VPAn",
        "colab_type": "text"
      },
      "source": [
        "### loan_status"
      ]
    },
    {
      "cell_type": "markdown",
      "metadata": {
        "id": "gj8Lseg-VSje",
        "colab_type": "text"
      },
      "source": [
        "##### I made a loan_repaid feature back in Section 1 and that will be the target class. loan_status can be dropped"
      ]
    },
    {
      "cell_type": "code",
      "metadata": {
        "id": "la9for0yT9mW",
        "colab_type": "code",
        "colab": {}
      },
      "source": [
        "df = df.drop('loan_status', axis=1)"
      ],
      "execution_count": 0,
      "outputs": []
    },
    {
      "cell_type": "markdown",
      "metadata": {
        "id": "yAZ4nwBSYUEK",
        "colab_type": "text"
      },
      "source": [
        "### purpose"
      ]
    },
    {
      "cell_type": "code",
      "metadata": {
        "id": "Q6h8RjrzSldO",
        "colab_type": "code",
        "outputId": "987e5bb9-2272-4bdf-e5c6-0270cd7f1e13",
        "colab": {
          "base_uri": "https://localhost:8080/",
          "height": 269
        }
      },
      "source": [
        "df['purpose'].value_counts()"
      ],
      "execution_count": 78,
      "outputs": [
        {
          "output_type": "execute_result",
          "data": {
            "text/plain": [
              "debt_consolidation    234507\n",
              "credit_card            83019\n",
              "home_improvement       24030\n",
              "other                  21185\n",
              "major_purchase          8790\n",
              "small_business          5701\n",
              "car                     4697\n",
              "medical                 4196\n",
              "moving                  2854\n",
              "vacation                2452\n",
              "house                   2201\n",
              "wedding                 1812\n",
              "renewable_energy         329\n",
              "educational              257\n",
              "Name: purpose, dtype: int64"
            ]
          },
          "metadata": {
            "tags": []
          },
          "execution_count": 78
        }
      ]
    },
    {
      "cell_type": "code",
      "metadata": {
        "id": "FLvyEVDnZL9G",
        "colab_type": "code",
        "colab": {}
      },
      "source": [
        "purpose_dummies = pd.get_dummies(df['purpose'],drop_first=True)"
      ],
      "execution_count": 0,
      "outputs": []
    },
    {
      "cell_type": "code",
      "metadata": {
        "id": "Du8smT0sTBZ2",
        "colab_type": "code",
        "colab": {}
      },
      "source": [
        "df = pd.concat([df.drop('purpose',axis=1),verification_status_dummies],axis=1)"
      ],
      "execution_count": 0,
      "outputs": []
    },
    {
      "cell_type": "markdown",
      "metadata": {
        "id": "gBu6xZ8yZnsA",
        "colab_type": "text"
      },
      "source": [
        "### earliest_cr_line"
      ]
    },
    {
      "cell_type": "code",
      "metadata": {
        "id": "bPrmhqeIZeVT",
        "colab_type": "code",
        "outputId": "bf0fa1f9-bc0e-4dce-a9c5-9a66145ed2b4",
        "colab": {
          "base_uri": "https://localhost:8080/",
          "height": 218
        }
      },
      "source": [
        "df['earliest_cr_line']"
      ],
      "execution_count": 81,
      "outputs": [
        {
          "output_type": "execute_result",
          "data": {
            "text/plain": [
              "0         Jun-90\n",
              "1         Jul-04\n",
              "2         Aug-07\n",
              "3         Sep-06\n",
              "4         Mar-99\n",
              "           ...  \n",
              "396025    Nov-04\n",
              "396026    Feb-06\n",
              "396027    Mar-97\n",
              "396028    Nov-90\n",
              "396029    Sep-98\n",
              "Name: earliest_cr_line, Length: 396030, dtype: object"
            ]
          },
          "metadata": {
            "tags": []
          },
          "execution_count": 81
        }
      ]
    },
    {
      "cell_type": "code",
      "metadata": {
        "id": "cztoRiizZq6B",
        "colab_type": "code",
        "colab": {}
      },
      "source": [
        "# df['earliest_cr_line'] = pd.to_datetime(df['earliest_cr_line'])"
      ],
      "execution_count": 0,
      "outputs": []
    },
    {
      "cell_type": "code",
      "metadata": {
        "id": "X6unxiudcFKN",
        "colab_type": "code",
        "outputId": "91deec11-1d6f-49c3-97ed-732aa073c27f",
        "colab": {
          "base_uri": "https://localhost:8080/",
          "height": 195
        }
      },
      "source": [
        "plt.figure(figsize=(40,4))\n",
        "sns.countplot(x='earliest_cr_line',data=df, hue='loan_repaid')"
      ],
      "execution_count": 83,
      "outputs": [
        {
          "output_type": "execute_result",
          "data": {
            "text/plain": [
              "<matplotlib.axes._subplots.AxesSubplot at 0x7fbb0ec7d240>"
            ]
          },
          "metadata": {
            "tags": []
          },
          "execution_count": 83
        },
        {
          "output_type": "display_data",
          "data": {
            "image/png": "[encoded data removed]",
            "text/plain": [
              "<Figure size 2880x288 with 1 Axes>"
            ]
          },
          "metadata": {
            "tags": [],
            "needs_background": "light"
          }
        }
      ]
    },
    {
      "cell_type": "markdown",
      "metadata": {
        "id": "-og9kMWYPS-E",
        "colab_type": "text"
      },
      "source": [
        "##### Given that there's on visible trend, I will drop this feature as well"
      ]
    },
    {
      "cell_type": "code",
      "metadata": {
        "id": "3XQifo00aKXE",
        "colab_type": "code",
        "colab": {}
      },
      "source": [
        "df = df.drop('earliest_cr_line', axis=1)"
      ],
      "execution_count": 0,
      "outputs": []
    },
    {
      "cell_type": "markdown",
      "metadata": {
        "id": "fALoA53iRUzm",
        "colab_type": "text"
      },
      "source": [
        "initial_list_status"
      ]
    },
    {
      "cell_type": "code",
      "metadata": {
        "id": "9lUxhsT7RaTh",
        "colab_type": "code",
        "outputId": "c25d3910-8901-433c-e5f5-3531e427296d",
        "colab": {
          "base_uri": "https://localhost:8080/",
          "height": 67
        }
      },
      "source": [
        "df['initial_list_status'].value_counts()"
      ],
      "execution_count": 85,
      "outputs": [
        {
          "output_type": "execute_result",
          "data": {
            "text/plain": [
              "f    238066\n",
              "w    157964\n",
              "Name: initial_list_status, dtype: int64"
            ]
          },
          "metadata": {
            "tags": []
          },
          "execution_count": 85
        }
      ]
    },
    {
      "cell_type": "code",
      "metadata": {
        "id": "CxT9ynv9RiGM",
        "colab_type": "code",
        "outputId": "97639aaf-0eac-493a-f59f-7e6c8c0cbc64",
        "colab": {
          "base_uri": "https://localhost:8080/",
          "height": 34
        }
      },
      "source": [
        "df_info.loc['initial_list_status']['Description']"
      ],
      "execution_count": 86,
      "outputs": [
        {
          "output_type": "execute_result",
          "data": {
            "text/plain": [
              "'The initial listing status of the loan. Possible values are – W, F'"
            ]
          },
          "metadata": {
            "tags": []
          },
          "execution_count": 86
        }
      ]
    },
    {
      "cell_type": "code",
      "metadata": {
        "id": "gehTfhbiRnt-",
        "colab_type": "code",
        "colab": {}
      },
      "source": [
        "init_list_status_dummies = pd.get_dummies(df['initial_list_status'],drop_first=True)"
      ],
      "execution_count": 0,
      "outputs": []
    },
    {
      "cell_type": "code",
      "metadata": {
        "id": "AwF_bpZCR4Jr",
        "colab_type": "code",
        "colab": {}
      },
      "source": [
        "df = pd.concat([df.drop('initial_list_status',axis=1),init_list_status_dummies],axis=1)"
      ],
      "execution_count": 0,
      "outputs": []
    },
    {
      "cell_type": "code",
      "metadata": {
        "id": "Q5boLqSGSBV7",
        "colab_type": "code",
        "colab": {}
      },
      "source": [
        ""
      ],
      "execution_count": 0,
      "outputs": []
    },
    {
      "cell_type": "markdown",
      "metadata": {
        "id": "iSm1h-FcSE_9",
        "colab_type": "text"
      },
      "source": [
        "application_type"
      ]
    },
    {
      "cell_type": "code",
      "metadata": {
        "id": "nLAKFrKbSFnd",
        "colab_type": "code",
        "outputId": "1823d3a6-7309-4aa2-f4de-b04ac0095c5d",
        "colab": {
          "base_uri": "https://localhost:8080/",
          "height": 84
        }
      },
      "source": [
        "df['application_type'].value_counts()"
      ],
      "execution_count": 89,
      "outputs": [
        {
          "output_type": "execute_result",
          "data": {
            "text/plain": [
              "INDIVIDUAL    395319\n",
              "JOINT            425\n",
              "DIRECT_PAY       286\n",
              "Name: application_type, dtype: int64"
            ]
          },
          "metadata": {
            "tags": []
          },
          "execution_count": 89
        }
      ]
    },
    {
      "cell_type": "code",
      "metadata": {
        "id": "MKqj1eBFSIC8",
        "colab_type": "code",
        "colab": {}
      },
      "source": [
        "application_type_dummies = pd.get_dummies(df['application_type'],drop_first=True)"
      ],
      "execution_count": 0,
      "outputs": []
    },
    {
      "cell_type": "code",
      "metadata": {
        "id": "8KVHbwxuSS1t",
        "colab_type": "code",
        "colab": {}
      },
      "source": [
        "df = pd.concat([df.drop('application_type',axis=1),application_type_dummies],axis=1)"
      ],
      "execution_count": 0,
      "outputs": []
    },
    {
      "cell_type": "markdown",
      "metadata": {
        "id": "CTO0EW3VSjmj",
        "colab_type": "text"
      },
      "source": [
        "address"
      ]
    },
    {
      "cell_type": "code",
      "metadata": {
        "id": "znqJQwtoSlWh",
        "colab_type": "code",
        "outputId": "201fa6d7-a0a5-4bc9-fdb2-aa6d90a8230a",
        "colab": {
          "base_uri": "https://localhost:8080/",
          "height": 218
        }
      },
      "source": [
        "df['address']"
      ],
      "execution_count": 92,
      "outputs": [
        {
          "output_type": "execute_result",
          "data": {
            "text/plain": [
              "0              0174 Michelle Gateway\\nMendozaberg, OK 22690\n",
              "1           1076 Carney Fort Apt. 347\\nLoganmouth, SD 05113\n",
              "2           87025 Mark Dale Apt. 269\\nNew Sabrina, WV 05113\n",
              "3                     823 Reid Ford\\nDelacruzside, MA 00813\n",
              "4                      679 Luna Roads\\nGreggshire, VA 11650\n",
              "                                ...                        \n",
              "396025       12951 Williams Crossing\\nJohnnyville, DC 30723\n",
              "396026    0114 Fowler Field Suite 028\\nRachelborough, LA...\n",
              "396027     953 Matthew Points Suite 414\\nReedfort, NY 70466\n",
              "396028    7843 Blake Freeway Apt. 229\\nNew Michael, FL 2...\n",
              "396029          787 Michelle Causeway\\nBriannaton, AR 48052\n",
              "Name: address, Length: 396030, dtype: object"
            ]
          },
          "metadata": {
            "tags": []
          },
          "execution_count": 92
        }
      ]
    },
    {
      "cell_type": "markdown",
      "metadata": {
        "id": "WVZk06AnS_T5",
        "colab_type": "text"
      },
      "source": [
        "Address could have an impact depending on the kind of neighboorhood so I'll just extrac the zip code"
      ]
    },
    {
      "cell_type": "code",
      "metadata": {
        "id": "S_cE1Ov0Soy0",
        "colab_type": "code",
        "colab": {}
      },
      "source": [
        "df['zip_code'] = df['address'].apply(lambda x: x[-5:])"
      ],
      "execution_count": 0,
      "outputs": []
    },
    {
      "cell_type": "code",
      "metadata": {
        "id": "4ynCcPIBS3ji",
        "colab_type": "code",
        "outputId": "e2dc9c5a-e2bf-489e-a850-9f0cd40d642e",
        "colab": {
          "base_uri": "https://localhost:8080/",
          "height": 218
        }
      },
      "source": [
        "df['zip_code']"
      ],
      "execution_count": 94,
      "outputs": [
        {
          "output_type": "execute_result",
          "data": {
            "text/plain": [
              "0         22690\n",
              "1         05113\n",
              "2         05113\n",
              "3         00813\n",
              "4         11650\n",
              "          ...  \n",
              "396025    30723\n",
              "396026    05113\n",
              "396027    70466\n",
              "396028    29597\n",
              "396029    48052\n",
              "Name: zip_code, Length: 396030, dtype: object"
            ]
          },
          "metadata": {
            "tags": []
          },
          "execution_count": 94
        }
      ]
    },
    {
      "cell_type": "code",
      "metadata": {
        "id": "vmYhOxwvS6Vb",
        "colab_type": "code",
        "colab": {}
      },
      "source": [
        "df = df.drop('address', axis=1)"
      ],
      "execution_count": 0,
      "outputs": []
    },
    {
      "cell_type": "code",
      "metadata": {
        "id": "mzl7h9kaTPbJ",
        "colab_type": "code",
        "outputId": "e2aad9f8-377f-43f2-82c0-94b25060594f",
        "colab": {
          "base_uri": "https://localhost:8080/",
          "height": 168
        }
      },
      "source": [
        "df.columns"
      ],
      "execution_count": 96,
      "outputs": [
        {
          "output_type": "execute_result",
          "data": {
            "text/plain": [
              "Index(['loan_amnt', 'term', 'int_rate', 'installment', 'annual_inc', 'dti',\n",
              "       'open_acc', 'pub_rec', 'revol_bal', 'total_acc', 'mort_acc',\n",
              "       'pub_rec_bankruptcies', 'loan_repaid', 'A2', 'A3', 'A4', 'A5', 'B1',\n",
              "       'B2', 'B3', 'B4', 'B5', 'C1', 'C2', 'C3', 'C4', 'C5', 'D1', 'D2', 'D3',\n",
              "       'D4', 'D5', 'E1', 'E2', 'E3', 'E4', 'E5', 'F1', 'F2', 'F3', 'F4', 'F5',\n",
              "       'G1', 'G2', 'G3', 'G4', 'G5', 'OTHER', 'OWN', 'RENT', 'Source Verified',\n",
              "       'Verified', 'Source Verified', 'Verified', 'w', 'INDIVIDUAL', 'JOINT',\n",
              "       'zip_code'],\n",
              "      dtype='object')"
            ]
          },
          "metadata": {
            "tags": []
          },
          "execution_count": 96
        }
      ]
    },
    {
      "cell_type": "code",
      "metadata": {
        "id": "d3ZCivcDTVit",
        "colab_type": "code",
        "outputId": "3e1509df-711a-4cf6-cb9b-6f5c65e5d5cd",
        "colab": {
          "base_uri": "https://localhost:8080/",
          "height": 1000
        }
      },
      "source": [
        "df.info()"
      ],
      "execution_count": 97,
      "outputs": [
        {
          "output_type": "stream",
          "text": [
            "<class 'pandas.core.frame.DataFrame'>\n",
            "RangeIndex: 396030 entries, 0 to 396029\n",
            "Data columns (total 58 columns):\n",
            " #   Column                Non-Null Count   Dtype  \n",
            "---  ------                --------------   -----  \n",
            " 0   loan_amnt             396030 non-null  int64  \n",
            " 1   term                  396030 non-null  int64  \n",
            " 2   int_rate              396030 non-null  float64\n",
            " 3   installment           396030 non-null  float64\n",
            " 4   annual_inc            396030 non-null  float64\n",
            " 5   dti                   396030 non-null  float64\n",
            " 6   open_acc              396030 non-null  int64  \n",
            " 7   pub_rec               396030 non-null  int64  \n",
            " 8   revol_bal             396030 non-null  int64  \n",
            " 9   total_acc             396030 non-null  int64  \n",
            " 10  mort_acc              396030 non-null  float64\n",
            " 11  pub_rec_bankruptcies  396030 non-null  float64\n",
            " 12  loan_repaid           396030 non-null  int64  \n",
            " 13  A2                    396030 non-null  uint8  \n",
            " 14  A3                    396030 non-null  uint8  \n",
            " 15  A4                    396030 non-null  uint8  \n",
            " 16  A5                    396030 non-null  uint8  \n",
            " 17  B1                    396030 non-null  uint8  \n",
            " 18  B2                    396030 non-null  uint8  \n",
            " 19  B3                    396030 non-null  uint8  \n",
            " 20  B4                    396030 non-null  uint8  \n",
            " 21  B5                    396030 non-null  uint8  \n",
            " 22  C1                    396030 non-null  uint8  \n",
            " 23  C2                    396030 non-null  uint8  \n",
            " 24  C3                    396030 non-null  uint8  \n",
            " 25  C4                    396030 non-null  uint8  \n",
            " 26  C5                    396030 non-null  uint8  \n",
            " 27  D1                    396030 non-null  uint8  \n",
            " 28  D2                    396030 non-null  uint8  \n",
            " 29  D3                    396030 non-null  uint8  \n",
            " 30  D4                    396030 non-null  uint8  \n",
            " 31  D5                    396030 non-null  uint8  \n",
            " 32  E1                    396030 non-null  uint8  \n",
            " 33  E2                    396030 non-null  uint8  \n",
            " 34  E3                    396030 non-null  uint8  \n",
            " 35  E4                    396030 non-null  uint8  \n",
            " 36  E5                    396030 non-null  uint8  \n",
            " 37  F1                    396030 non-null  uint8  \n",
            " 38  F2                    396030 non-null  uint8  \n",
            " 39  F3                    396030 non-null  uint8  \n",
            " 40  F4                    396030 non-null  uint8  \n",
            " 41  F5                    396030 non-null  uint8  \n",
            " 42  G1                    396030 non-null  uint8  \n",
            " 43  G2                    396030 non-null  uint8  \n",
            " 44  G3                    396030 non-null  uint8  \n",
            " 45  G4                    396030 non-null  uint8  \n",
            " 46  G5                    396030 non-null  uint8  \n",
            " 47  OTHER                 396030 non-null  uint8  \n",
            " 48  OWN                   396030 non-null  uint8  \n",
            " 49  RENT                  396030 non-null  uint8  \n",
            " 50  Source Verified       396030 non-null  uint8  \n",
            " 51  Verified              396030 non-null  uint8  \n",
            " 52  Source Verified       396030 non-null  uint8  \n",
            " 53  Verified              396030 non-null  uint8  \n",
            " 54  w                     396030 non-null  uint8  \n",
            " 55  INDIVIDUAL            396030 non-null  uint8  \n",
            " 56  JOINT                 396030 non-null  uint8  \n",
            " 57  zip_code              396030 non-null  object \n",
            "dtypes: float64(6), int64(7), object(1), uint8(44)\n",
            "memory usage: 58.9+ MB\n"
          ],
          "name": "stdout"
        }
      ]
    },
    {
      "cell_type": "markdown",
      "metadata": {
        "id": "KzfiJdk6EPR2",
        "colab_type": "text"
      },
      "source": [
        "No more missing values so we're good to go for that next step"
      ]
    },
    {
      "cell_type": "markdown",
      "metadata": {
        "id": "RFtwp_3TUO2F",
        "colab_type": "text"
      },
      "source": [
        "# Section 3: Train-Test Split"
      ]
    },
    {
      "cell_type": "code",
      "metadata": {
        "id": "nXOigI0GUWFa",
        "colab_type": "code",
        "colab": {
          "base_uri": "https://localhost:8080/",
          "height": 50
        },
        "outputId": "8c447c3c-7d97-4fe1-d251-600189b4a4ea"
      },
      "source": [
        "X = df.drop('loan_repaid', axis=1).values\n",
        "y = df['loan_repaid'].values\n",
        "\n",
        "print(X.shape)\n",
        "print(y.shape)"
      ],
      "execution_count": 129,
      "outputs": [
        {
          "output_type": "stream",
          "text": [
            "(396030, 57)\n",
            "(396030,)\n"
          ],
          "name": "stdout"
        }
      ]
    },
    {
      "cell_type": "code",
      "metadata": {
        "id": "52HRL4lLxmtM",
        "colab_type": "code",
        "colab": {
          "base_uri": "https://localhost:8080/",
          "height": 34
        },
        "outputId": "a6211482-ec11-4c52-87d4-b1a6f6a0a6cc"
      },
      "source": [
        "# Loan Repaid\n",
        "df[df['loan_repaid'] == 1].shape"
      ],
      "execution_count": 122,
      "outputs": [
        {
          "output_type": "execute_result",
          "data": {
            "text/plain": [
              "(318357, 58)"
            ]
          },
          "metadata": {
            "tags": []
          },
          "execution_count": 122
        }
      ]
    },
    {
      "cell_type": "code",
      "metadata": {
        "id": "7_WGjLMKxxvK",
        "colab_type": "code",
        "colab": {
          "base_uri": "https://localhost:8080/",
          "height": 34
        },
        "outputId": "7af84544-4ba9-413d-ee49-c17f624b4fe2"
      },
      "source": [
        "# Loan Default\n",
        "df[df['loan_repaid'] == 0].shape"
      ],
      "execution_count": 124,
      "outputs": [
        {
          "output_type": "execute_result",
          "data": {
            "text/plain": [
              "(77673, 58)"
            ]
          },
          "metadata": {
            "tags": []
          },
          "execution_count": 124
        }
      ]
    },
    {
      "cell_type": "markdown",
      "metadata": {
        "id": "_DZ8fWDSz-5S",
        "colab_type": "text"
      },
      "source": [
        "### Balancing the data"
      ]
    },
    {
      "cell_type": "markdown",
      "metadata": {
        "id": "FFBnk24BBl2y",
        "colab_type": "text"
      },
      "source": [
        "Undersampling didn't result in good model performance. Precision and recall was below 0.90. Oversampling on he other hand, yield much better results"
      ]
    },
    {
      "cell_type": "code",
      "metadata": {
        "id": "TUgK1x00x_Rp",
        "colab_type": "code",
        "colab": {}
      },
      "source": [
        "from imblearn.combine import SMOTETomek\n",
        "from imblearn.under_sampling import NearMiss"
      ],
      "execution_count": 0,
      "outputs": []
    },
    {
      "cell_type": "code",
      "metadata": {
        "id": "5w3a1zZUyE8v",
        "colab_type": "code",
        "colab": {
          "base_uri": "https://localhost:8080/",
          "height": 104
        },
        "outputId": "f9ca428a-6aca-4eb5-b2d3-b0f7796f89aa"
      },
      "source": [
        "smk = SMOTETomek(random_state=42)\n",
        "X_bal,y_bal=smk.fit_sample(X,y)"
      ],
      "execution_count": 156,
      "outputs": [
        {
          "output_type": "stream",
          "text": [
            "/usr/local/lib/python3.6/dist-packages/sklearn/utils/deprecation.py:87: FutureWarning: Function safe_indexing is deprecated; safe_indexing is deprecated in version 0.22 and will be removed in version 0.24.\n",
            "  warnings.warn(msg, category=FutureWarning)\n",
            "/usr/local/lib/python3.6/dist-packages/sklearn/utils/deprecation.py:87: FutureWarning: Function safe_indexing is deprecated; safe_indexing is deprecated in version 0.22 and will be removed in version 0.24.\n",
            "  warnings.warn(msg, category=FutureWarning)\n"
          ],
          "name": "stderr"
        }
      ]
    },
    {
      "cell_type": "code",
      "metadata": {
        "id": "Pi081wtB13xH",
        "colab_type": "code",
        "colab": {
          "base_uri": "https://localhost:8080/",
          "height": 34
        },
        "outputId": "f95bf931-978d-4ce0-bc95-a26d2b774569"
      },
      "source": [
        "X_bal.shape, y_bal.shape"
      ],
      "execution_count": 157,
      "outputs": [
        {
          "output_type": "execute_result",
          "data": {
            "text/plain": [
              "((606932, 57), (606932,))"
            ]
          },
          "metadata": {
            "tags": []
          },
          "execution_count": 157
        }
      ]
    },
    {
      "cell_type": "code",
      "metadata": {
        "id": "r4DmPGlrVOuS",
        "colab_type": "code",
        "colab": {}
      },
      "source": [
        "from sklearn.model_selection import train_test_split"
      ],
      "execution_count": 0,
      "outputs": []
    },
    {
      "cell_type": "code",
      "metadata": {
        "id": "l-p2OEBYU6vS",
        "colab_type": "code",
        "colab": {}
      },
      "source": [
        "X_train, X_test, y_train, y_test = train_test_split(X_bal, y_bal, test_size=0.20, random_state=101)"
      ],
      "execution_count": 0,
      "outputs": []
    },
    {
      "cell_type": "markdown",
      "metadata": {
        "id": "sa__Nq4dVUIp",
        "colab_type": "text"
      },
      "source": [
        "### Normalizing the data"
      ]
    },
    {
      "cell_type": "markdown",
      "metadata": {
        "id": "2PEBRiwAEdXV",
        "colab_type": "text"
      },
      "source": [
        "Need to scale data for the ANN model"
      ]
    },
    {
      "cell_type": "code",
      "metadata": {
        "id": "ku4U2gt5VXQu",
        "colab_type": "code",
        "colab": {}
      },
      "source": [
        "from sklearn.preprocessing import MinMaxScaler"
      ],
      "execution_count": 0,
      "outputs": []
    },
    {
      "cell_type": "code",
      "metadata": {
        "id": "QLhdQ2VvVf8e",
        "colab_type": "code",
        "colab": {}
      },
      "source": [
        "scaler = MinMaxScaler()"
      ],
      "execution_count": 0,
      "outputs": []
    },
    {
      "cell_type": "code",
      "metadata": {
        "id": "UOB8ucwLVhHq",
        "colab_type": "code",
        "colab": {}
      },
      "source": [
        "X_train = scaler.fit_transform(X_train)"
      ],
      "execution_count": 0,
      "outputs": []
    },
    {
      "cell_type": "code",
      "metadata": {
        "id": "7nZ7Y3-SViTe",
        "colab_type": "code",
        "colab": {}
      },
      "source": [
        "X_test = scaler.transform(X_test)"
      ],
      "execution_count": 0,
      "outputs": []
    },
    {
      "cell_type": "markdown",
      "metadata": {
        "id": "E-4MbVqsWXia",
        "colab_type": "text"
      },
      "source": [
        "# Section 4: Creating an ANN Model with TF and Keras"
      ]
    },
    {
      "cell_type": "code",
      "metadata": {
        "id": "tkNg8bucWbqz",
        "colab_type": "code",
        "colab": {}
      },
      "source": [
        "import tensorflow as tf\n",
        "from tensorflow.keras.models import Sequential\n",
        "from tensorflow.keras.layers import Dense, Activation,Dropout\n",
        "from tensorflow.keras.constraints import max_norm"
      ],
      "execution_count": 0,
      "outputs": []
    },
    {
      "cell_type": "markdown",
      "metadata": {
        "id": "R_jRLKd-WqZ1",
        "colab_type": "text"
      },
      "source": [
        "##### There are many ways a Neural Network can be designed. I went through some discussions to get an idea what the structure should be like. The idea is to start with a layer with number of nodes = no. of features and then reduce or half the number of nodes in the following layers so the result converge"
      ]
    },
    {
      "cell_type": "code",
      "metadata": {
        "id": "P1rZI-GHWjx8",
        "colab_type": "code",
        "outputId": "b77020c5-55a1-493c-ad64-8ce50a8693a5",
        "colab": {
          "base_uri": "https://localhost:8080/",
          "height": 34
        }
      },
      "source": [
        "X_train.shape"
      ],
      "execution_count": 165,
      "outputs": [
        {
          "output_type": "execute_result",
          "data": {
            "text/plain": [
              "(485545, 57)"
            ]
          },
          "metadata": {
            "tags": []
          },
          "execution_count": 165
        }
      ]
    },
    {
      "cell_type": "markdown",
      "metadata": {
        "id": "Bg3L3wbxYl7M",
        "colab_type": "text"
      },
      "source": [
        "57 -> 28 > 14 > 7 > 1\n",
        "\n",
        "*   Setting my activation function to Rectified Linear Unit\n",
        "*   Adding a dropout of 20% to avoid overfitting\n",
        "*   Final level activation function will be sigmoid since its a binary classifier\n",
        "*   For optimizer I'm going with Adam since it's the most frquently used"
      ]
    },
    {
      "cell_type": "code",
      "metadata": {
        "id": "vN-dvLcmZAds",
        "colab_type": "code",
        "colab": {}
      },
      "source": [
        "model = Sequential()\n",
        "\n",
        "# input layer\n",
        "model.add(Dense(57,  activation='relu'))\n",
        "model.add(Dropout(0.2))\n",
        "\n",
        "# hidden layer\n",
        "model.add(Dense(28, activation='relu'))\n",
        "model.add(Dropout(0.2))\n",
        "\n",
        "# hidden layer\n",
        "model.add(Dense(14, activation='relu'))\n",
        "model.add(Dropout(0.2))\n",
        "\n",
        "# output layer\n",
        "model.add(Dense(units=1,activation='sigmoid'))\n",
        "\n",
        "# Compile model\n",
        "model.compile(loss='binary_crossentropy', optimizer='adam')\n"
      ],
      "execution_count": 0,
      "outputs": []
    },
    {
      "cell_type": "markdown",
      "metadata": {
        "id": "2lsBFc0ZEulf",
        "colab_type": "text"
      },
      "source": [
        "I played around with number of epochs and batch size to get the optimal result"
      ]
    },
    {
      "cell_type": "code",
      "metadata": {
        "id": "0xIbGSmLa4Hn",
        "colab_type": "code",
        "outputId": "82b70ce9-2af2-4718-c74d-db8363a25dce",
        "colab": {
          "base_uri": "https://localhost:8080/",
          "height": 1000
        }
      },
      "source": [
        "model.fit(x=X_train, \n",
        "          y=y_train, \n",
        "          epochs=50,\n",
        "          batch_size=200,\n",
        "          validation_data=(X_test, y_test), \n",
        "          )"
      ],
      "execution_count": 233,
      "outputs": [
        {
          "output_type": "stream",
          "text": [
            "Epoch 1/50\n",
            "2428/2428 [==============================] - 5s 2ms/step - loss: 0.4512 - val_loss: 0.3142\n",
            "Epoch 2/50\n",
            "2428/2428 [==============================] - 5s 2ms/step - loss: 0.3298 - val_loss: 0.2679\n",
            "Epoch 3/50\n",
            "2428/2428 [==============================] - 5s 2ms/step - loss: 0.3006 - val_loss: 0.2595\n",
            "Epoch 4/50\n",
            "2428/2428 [==============================] - 5s 2ms/step - loss: 0.2886 - val_loss: 0.2509\n",
            "Epoch 5/50\n",
            "2428/2428 [==============================] - 5s 2ms/step - loss: 0.2795 - val_loss: 0.2487\n",
            "Epoch 6/50\n",
            "2428/2428 [==============================] - 5s 2ms/step - loss: 0.2732 - val_loss: 0.2370\n",
            "Epoch 7/50\n",
            "2428/2428 [==============================] - 5s 2ms/step - loss: 0.2667 - val_loss: 0.2271\n",
            "Epoch 8/50\n",
            "2428/2428 [==============================] - 5s 2ms/step - loss: 0.2577 - val_loss: 0.2206\n",
            "Epoch 9/50\n",
            "2428/2428 [==============================] - 5s 2ms/step - loss: 0.2472 - val_loss: 0.2101\n",
            "Epoch 10/50\n",
            "2428/2428 [==============================] - 5s 2ms/step - loss: 0.2400 - val_loss: 0.1972\n",
            "Epoch 11/50\n",
            "2428/2428 [==============================] - 5s 2ms/step - loss: 0.2331 - val_loss: 0.1937\n",
            "Epoch 12/50\n",
            "2428/2428 [==============================] - 5s 2ms/step - loss: 0.2296 - val_loss: 0.1941\n",
            "Epoch 13/50\n",
            "2428/2428 [==============================] - 5s 2ms/step - loss: 0.2267 - val_loss: 0.1897\n",
            "Epoch 14/50\n",
            "2428/2428 [==============================] - 5s 2ms/step - loss: 0.2252 - val_loss: 0.1888\n",
            "Epoch 15/50\n",
            "2428/2428 [==============================] - 5s 2ms/step - loss: 0.2232 - val_loss: 0.1843\n",
            "Epoch 16/50\n",
            "2428/2428 [==============================] - 5s 2ms/step - loss: 0.2227 - val_loss: 0.1849\n",
            "Epoch 17/50\n",
            "2428/2428 [==============================] - 5s 2ms/step - loss: 0.2217 - val_loss: 0.1855\n",
            "Epoch 18/50\n",
            "2428/2428 [==============================] - 5s 2ms/step - loss: 0.2208 - val_loss: 0.1853\n",
            "Epoch 19/50\n",
            "2428/2428 [==============================] - 5s 2ms/step - loss: 0.2198 - val_loss: 0.1839\n",
            "Epoch 20/50\n",
            "2428/2428 [==============================] - 5s 2ms/step - loss: 0.2190 - val_loss: 0.1812\n",
            "Epoch 21/50\n",
            "2428/2428 [==============================] - 5s 2ms/step - loss: 0.2177 - val_loss: 0.1850\n",
            "Epoch 22/50\n",
            "2428/2428 [==============================] - 5s 2ms/step - loss: 0.2183 - val_loss: 0.1830\n",
            "Epoch 23/50\n",
            "2428/2428 [==============================] - 5s 2ms/step - loss: 0.2164 - val_loss: 0.1815\n",
            "Epoch 24/50\n",
            "2428/2428 [==============================] - 5s 2ms/step - loss: 0.2176 - val_loss: 0.1822\n",
            "Epoch 25/50\n",
            "2428/2428 [==============================] - 5s 2ms/step - loss: 0.2161 - val_loss: 0.1848\n",
            "Epoch 26/50\n",
            "2428/2428 [==============================] - 5s 2ms/step - loss: 0.2154 - val_loss: 0.1849\n",
            "Epoch 27/50\n",
            "2428/2428 [==============================] - 5s 2ms/step - loss: 0.2139 - val_loss: 0.1814\n",
            "Epoch 28/50\n",
            "2428/2428 [==============================] - 5s 2ms/step - loss: 0.2147 - val_loss: 0.1828\n",
            "Epoch 29/50\n",
            "2428/2428 [==============================] - 5s 2ms/step - loss: 0.2130 - val_loss: 0.1850\n",
            "Epoch 30/50\n",
            "2428/2428 [==============================] - 5s 2ms/step - loss: 0.2134 - val_loss: 0.1834\n",
            "Epoch 31/50\n",
            "2428/2428 [==============================] - 5s 2ms/step - loss: 0.2132 - val_loss: 0.1799\n",
            "Epoch 32/50\n",
            "2428/2428 [==============================] - 5s 2ms/step - loss: 0.2128 - val_loss: 0.1793\n",
            "Epoch 33/50\n",
            "2428/2428 [==============================] - 5s 2ms/step - loss: 0.2114 - val_loss: 0.1798\n",
            "Epoch 34/50\n",
            "2428/2428 [==============================] - 5s 2ms/step - loss: 0.2105 - val_loss: 0.1818\n",
            "Epoch 35/50\n",
            "2428/2428 [==============================] - 5s 2ms/step - loss: 0.2101 - val_loss: 0.1815\n",
            "Epoch 36/50\n",
            "2428/2428 [==============================] - 5s 2ms/step - loss: 0.2098 - val_loss: 0.1801\n",
            "Epoch 37/50\n",
            "2428/2428 [==============================] - 5s 2ms/step - loss: 0.2086 - val_loss: 0.1817\n",
            "Epoch 38/50\n",
            "2428/2428 [==============================] - 5s 2ms/step - loss: 0.2103 - val_loss: 0.1791\n",
            "Epoch 39/50\n",
            "2428/2428 [==============================] - 5s 2ms/step - loss: 0.2087 - val_loss: 0.1801\n",
            "Epoch 40/50\n",
            "2428/2428 [==============================] - 5s 2ms/step - loss: 0.2091 - val_loss: 0.1796\n",
            "Epoch 41/50\n",
            "2428/2428 [==============================] - 5s 2ms/step - loss: 0.2091 - val_loss: 0.1818\n",
            "Epoch 42/50\n",
            "2428/2428 [==============================] - 5s 2ms/step - loss: 0.2079 - val_loss: 0.1818\n",
            "Epoch 43/50\n",
            "2428/2428 [==============================] - 5s 2ms/step - loss: 0.2088 - val_loss: 0.1803\n",
            "Epoch 44/50\n",
            "2428/2428 [==============================] - 5s 2ms/step - loss: 0.2077 - val_loss: 0.1784\n",
            "Epoch 45/50\n",
            "2428/2428 [==============================] - 5s 2ms/step - loss: 0.2083 - val_loss: 0.1814\n",
            "Epoch 46/50\n",
            "2428/2428 [==============================] - 5s 2ms/step - loss: 0.2076 - val_loss: 0.1774\n",
            "Epoch 47/50\n",
            "2428/2428 [==============================] - 5s 2ms/step - loss: 0.2092 - val_loss: 0.1801\n",
            "Epoch 48/50\n",
            "2428/2428 [==============================] - 5s 2ms/step - loss: 0.2077 - val_loss: 0.1806\n",
            "Epoch 49/50\n",
            "2428/2428 [==============================] - 5s 2ms/step - loss: 0.2068 - val_loss: 0.1808\n",
            "Epoch 50/50\n",
            "2428/2428 [==============================] - 5s 2ms/step - loss: 0.2080 - val_loss: 0.1781\n"
          ],
          "name": "stdout"
        },
        {
          "output_type": "execute_result",
          "data": {
            "text/plain": [
              "<tensorflow.python.keras.callbacks.History at 0x7fbab4a067b8>"
            ]
          },
          "metadata": {
            "tags": []
          },
          "execution_count": 233
        }
      ]
    },
    {
      "cell_type": "code",
      "metadata": {
        "id": "SSn4ACoBa7ZQ",
        "colab_type": "code",
        "colab": {}
      },
      "source": [
        "from tensorflow.keras.models import load_model"
      ],
      "execution_count": 0,
      "outputs": []
    },
    {
      "cell_type": "code",
      "metadata": {
        "id": "q31uFNGRbTnl",
        "colab_type": "code",
        "colab": {}
      },
      "source": [
        "model.save('LC_binary_classifier_model.h5')"
      ],
      "execution_count": 0,
      "outputs": []
    },
    {
      "cell_type": "markdown",
      "metadata": {
        "id": "XXKhuhDzbkTQ",
        "colab_type": "text"
      },
      "source": [
        "# Section 5: Evaluating Model Performance"
      ]
    },
    {
      "cell_type": "code",
      "metadata": {
        "id": "-ERwIQxabaNr",
        "colab_type": "code",
        "outputId": "c095dff5-e5cd-4e43-e2f5-f7b48156340c",
        "colab": {
          "base_uri": "https://localhost:8080/",
          "height": 282
        }
      },
      "source": [
        "losses = pd.DataFrame(model.history.history)\n",
        "\n",
        "losses[['loss','val_loss']].plot()"
      ],
      "execution_count": 236,
      "outputs": [
        {
          "output_type": "execute_result",
          "data": {
            "text/plain": [
              "<matplotlib.axes._subplots.AxesSubplot at 0x7fbab48214a8>"
            ]
          },
          "metadata": {
            "tags": []
          },
          "execution_count": 236
        },
        {
          "output_type": "display_data",
          "data": {
            "image/png": "[encoded data removed]",
            "text/plain": [
              "<Figure size 432x288 with 1 Axes>"
            ]
          },
          "metadata": {
            "tags": [],
            "needs_background": "light"
          }
        }
      ]
    },
    {
      "cell_type": "code",
      "metadata": {
        "id": "Y81W5K7ibiJJ",
        "colab_type": "code",
        "colab": {}
      },
      "source": [
        "from sklearn.metrics import classification_report,confusion_matrix"
      ],
      "execution_count": 0,
      "outputs": []
    },
    {
      "cell_type": "code",
      "metadata": {
        "id": "NtufDk7sbwtG",
        "colab_type": "code",
        "colab": {}
      },
      "source": [
        "predictions = model.predict_classes(X_test)"
      ],
      "execution_count": 0,
      "outputs": []
    },
    {
      "cell_type": "code",
      "metadata": {
        "id": "SOrtJSp3by6U",
        "colab_type": "code",
        "outputId": "1e526119-e7fe-439a-c0b5-bd2f92b1bf1c",
        "colab": {
          "base_uri": "https://localhost:8080/",
          "height": 168
        }
      },
      "source": [
        "print(classification_report(y_test,predictions))"
      ],
      "execution_count": 239,
      "outputs": [
        {
          "output_type": "stream",
          "text": [
            "              precision    recall  f1-score   support\n",
            "\n",
            "           0       1.00      0.86      0.92     60488\n",
            "           1       0.87      1.00      0.93     60899\n",
            "\n",
            "    accuracy                           0.93    121387\n",
            "   macro avg       0.94      0.93      0.93    121387\n",
            "weighted avg       0.94      0.93      0.93    121387\n",
            "\n"
          ],
          "name": "stdout"
        }
      ]
    },
    {
      "cell_type": "code",
      "metadata": {
        "id": "_aNakwEob4Mk",
        "colab_type": "code",
        "outputId": "3c34e4f6-3089-42d5-9ba7-02b5efdc126d",
        "colab": {
          "base_uri": "https://localhost:8080/",
          "height": 50
        }
      },
      "source": [
        "confusion_matrix(y_test,predictions)"
      ],
      "execution_count": 245,
      "outputs": [
        {
          "output_type": "execute_result",
          "data": {
            "text/plain": [
              "array([[51770,  8718],\n",
              "       [   62, 60837]])"
            ]
          },
          "metadata": {
            "tags": []
          },
          "execution_count": 245
        }
      ]
    },
    {
      "cell_type": "markdown",
      "metadata": {
        "id": "z5u_Jv-PrGIA",
        "colab_type": "text"
      },
      "source": [
        "# Section 6: Prediction\n"
      ]
    },
    {
      "cell_type": "markdown",
      "metadata": {
        "id": "hTKuVwHTFB3V",
        "colab_type": "text"
      },
      "source": [
        "I will select a random row from that data and apply that on my model to see the result"
      ]
    },
    {
      "cell_type": "code",
      "metadata": {
        "id": "taRvQAhnrKCO",
        "colab_type": "code",
        "colab": {}
      },
      "source": [
        "import random\n",
        "random.seed(101)"
      ],
      "execution_count": 0,
      "outputs": []
    },
    {
      "cell_type": "code",
      "metadata": {
        "id": "mwLl4D79rN0u",
        "colab_type": "code",
        "colab": {}
      },
      "source": [
        "random_ind = random.randint(0,len(df))"
      ],
      "execution_count": 0,
      "outputs": []
    },
    {
      "cell_type": "code",
      "metadata": {
        "id": "OyrNMDTQralC",
        "colab_type": "code",
        "colab": {}
      },
      "source": [
        "sample_customer = df.drop('loan_repaid',axis=1).iloc[random_ind]\n",
        "sample_customer = scaler.transform(sample_customer.values.reshape(1,57))"
      ],
      "execution_count": 0,
      "outputs": []
    },
    {
      "cell_type": "code",
      "metadata": {
        "id": "7tS9G06crhHa",
        "colab_type": "code",
        "outputId": "6c12480b-9380-4274-acd6-3d76d66398cf",
        "colab": {
          "base_uri": "https://localhost:8080/",
          "height": 34
        }
      },
      "source": [
        "model.predict_classes(sample_customer)"
      ],
      "execution_count": 249,
      "outputs": [
        {
          "output_type": "execute_result",
          "data": {
            "text/plain": [
              "array([[1]], dtype=int32)"
            ]
          },
          "metadata": {
            "tags": []
          },
          "execution_count": 249
        }
      ]
    },
    {
      "cell_type": "markdown",
      "metadata": {
        "id": "lqTeB_EYFPSU",
        "colab_type": "text"
      },
      "source": [
        "Prediction is 1, meaning loan will be repaid"
      ]
    },
    {
      "cell_type": "markdown",
      "metadata": {
        "id": "yAtonyp9FYbX",
        "colab_type": "text"
      },
      "source": [
        "Now let's check the actual loan status for that row "
      ]
    },
    {
      "cell_type": "code",
      "metadata": {
        "id": "CnxD0GOQrsl6",
        "colab_type": "code",
        "outputId": "9685f579-568b-40bf-9a3f-5a750c113c76",
        "colab": {
          "base_uri": "https://localhost:8080/",
          "height": 34
        }
      },
      "source": [
        "df.iloc[random_ind]['loan_repaid']"
      ],
      "execution_count": 250,
      "outputs": [
        {
          "output_type": "execute_result",
          "data": {
            "text/plain": [
              "1"
            ]
          },
          "metadata": {
            "tags": []
          },
          "execution_count": 250
        }
      ]
    },
    {
      "cell_type": "markdown",
      "metadata": {
        "id": "DnVvNWNHFhg4",
        "colab_type": "text"
      },
      "source": [
        "So the loan was repaid"
      ]
    }
  ]
}